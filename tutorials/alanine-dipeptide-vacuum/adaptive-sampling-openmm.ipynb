{
 "cells": [
  {
   "cell_type": "code",
   "execution_count": null,
   "id": "6dc1511e-72b7-45e8-b304-4b6d3bdc2cf2",
   "metadata": {},
   "outputs": [],
   "source": [
    "import os\n",
    "from sys import stdout\n",
    "from openmm import *\n",
    "from openmm.app import *\n",
    "from openmm.unit import *\n",
    "\n",
    "import nglview as ngl\n",
    "import pytraj as pt\n",
    "import numpy as np\n",
    "import matplotlib.pyplot as plt"
   ]
  },
  {
   "cell_type": "code",
   "execution_count": null,
   "id": "1ab2a303-c3f1-4308-acb5-a92278bf896a",
   "metadata": {},
   "outputs": [],
   "source": [
    "%%bash\n",
    "export PYTHOPATH='/home/andreas/adaptive_sampling'\n",
    "echo $PYTHOPATH"
   ]
  },
  {
   "cell_type": "markdown",
   "id": "28f73de5-b88f-465f-ac6a-768f7ad70dba",
   "metadata": {},
   "source": [
    "# Enhanced sampling with OpenMM and Adaptive Sampling\n",
    "\n",
    "In this short tutorial we will show how to use the adaptive sampling package together with OpenMM.\n",
    "\n",
    "We will run test simulations on the mimimal \"protein\" alanine-dipeptide. Data files for this notebook were taken from the OpenMM test systems.\n",
    "\n",
    "*    alanine-dipeptide.pdb (All-atom PDB file.)\n",
    "*    alanine-dipeptide.crd (AMBER input coordinates)\n",
    "*    alanine-dipeptide.prmtop (AMBER parameters and topology)\n",
    "\n",
    "A thorough discussion of the alanine dipeptide system can be found [here](https://doi.org/10.1073/pnas.100127697).\n",
    "\n",
    "For this tutorial we will use the following programm packages:\n",
    "*    OpenMM for molecular simulation: https://openmm.org/\n",
    "*    PyTraj for trajectory analysis: https://amber-md.github.io/pytraj/latest/index.html\n",
    "*    Nglview for molecular visualisation: https://github.com/nglviewer/nglview\n",
    "\n",
    "We begin with a minimal example of an unbiased OpenMM simulation of alanine dipeptide in vacuum."
   ]
  },
  {
   "cell_type": "code",
   "execution_count": null,
   "id": "02d4f971-273e-48ca-9f23-736251dfab20",
   "metadata": {},
   "outputs": [],
   "source": [
    "def run(nsteps: int=1000, T: float=300.0, dcd_freq: int=10, out_freq: int=10):\n",
    "    \n",
    "    # load system topology and coordinates from AMBER format\n",
    "    prmtop = AmberPrmtopFile(f\"../data/alanine-dipeptide.prmtop\")\n",
    "    crd = AmberInpcrdFile(f\"../data/alanine-dipeptide.crd\")\n",
    "\n",
    "    # create the system and integrator \n",
    "    system = prmtop.createSystem(\n",
    "        nonbondedMethod=NoCutoff,\n",
    "    )\n",
    "    platform = Platform.getPlatformByName('CPU')\n",
    "    integrator = LangevinIntegrator(T * kelvin, 1.0 / picoseconds, 2.0 * femtosecond)\n",
    "\n",
    "    # setup an simulation and run MD for nsteps\n",
    "    simulation = Simulation(prmtop.topology, system, integrator, platform)\n",
    "    simulation.context.setPositions(crd.positions)\n",
    "    simulation.context.setVelocitiesToTemperature(T)\n",
    "    simulation.reporters.append(DCDReporter('alanine-dipeptide-test.dcd', dcd_freq))\n",
    "    simulation.reporters.append(StateDataReporter(\n",
    "        stdout, \n",
    "        out_freq,\n",
    "        step=True,\n",
    "        time=True,\n",
    "        potentialEnergy=True,\n",
    "        kineticEnergy=True,\n",
    "        totalEnergy=True,\n",
    "        temperature=True,\n",
    "        separator='\\t')\n",
    "    )\n",
    "    simulation.step(nsteps)"
   ]
  },
  {
   "cell_type": "code",
   "execution_count": null,
   "id": "c76f1504-b799-4a5b-b129-dd85ba5e5c78",
   "metadata": {},
   "outputs": [],
   "source": [
    "run(nsteps=100)"
   ]
  },
  {
   "cell_type": "markdown",
   "id": "e6e82f00-549d-4daf-aceb-0d645de7567e",
   "metadata": {},
   "source": [
    "We can visualize the trajectory using pytraj and nglview. \n",
    "\n",
    "Alanine dipeptide is a popular testsystem for enhanced sampling algorithms because it is a minimal example for sampling challanges that are posed by many biological systems. The slow motions of the molecule are largely governed by the $\\psi$ (backbone N-C-C-N) and $\\phi$ (backbone C-N-C-C) diherals. Below atoms involved in this collective variables (CVs) are shown in ball and stick representation, while other atoms are transperent.  "
   ]
  },
  {
   "cell_type": "code",
   "execution_count": null,
   "id": "6892a570-7bcc-48c9-9ec9-f0e47399d186",
   "metadata": {},
   "outputs": [],
   "source": [
    "traj = pt.iterload(\"alanine-dipeptide-test.dcd\", top=\"../data/alanine-dipeptide.pdb\")\n",
    "\n",
    "view = ngl.show_pytraj(traj)\n",
    "view.clear_representations()\n",
    "view.add_ball_and_stick('@6,8,14,16', opacity=1.0) # CV atoms of phi torsion\n",
    "view.add_ball_and_stick('@4,6,8,14', opacity=1.0)  # CV atoms of psi torsion\n",
    "#view.add_ball_and_stick('@1,4,6,8', opacity=1.0)   # CV atoms of theta torsion\n",
    "\n",
    "view.add_licorice(opacity=0.5)\n",
    "view"
   ]
  },
  {
   "cell_type": "markdown",
   "id": "2415f7cc-c021-4442-ae81-4c2187d2eb60",
   "metadata": {},
   "source": [
    "# Enhanced sampling of $\\psi$ with WTM-eABF\n",
    "\n",
    "In the following example we will apply the WTM-eABF sampling algorithm to enhance sampling along the $\\phi$ angle. Note, that this is a suboptimal CV and there is still an orthogonal free energy barrier along the $\\psi$ torsion. "
   ]
  },
  {
   "cell_type": "code",
   "execution_count": null,
   "id": "b2ad231f-9d4d-401b-a944-0b454216f044",
   "metadata": {
    "scrolled": true
   },
   "outputs": [],
   "source": [
    "from adaptive_sampling.sampling_tools import *\n",
    "from adaptive_sampling.interface.interface_openmm import AdaptiveSamplingOpenMM\n",
    "\n",
    "# ------------------------------------------------------------------------------------\n",
    "# define collective variables\n",
    "cv_atoms_psi    = [6, 8, 14, 16]  # backbone N-C-C-N torsion\n",
    "cv_atoms_phi    = [4, 6, 8, 14]   # backbone C-N-C-C torsion\n",
    "minimum         = -180.0          # minimum of the CV\n",
    "maximum         = 180.0           # maximum of the CV\n",
    "bin_width       = 5.0             # bin with along the CV\n",
    "\n",
    "collective_var_phi = [[\"torsion\", cv_atoms_phi, minimum, maximum, bin_width]]\n",
    "#collective_var_psi = [[\"torsion\", cv_atoms_psi, minimum, maximum, bin_width]]\n",
    "\n",
    "periodicity = [[-np.pi, np.pi]]\n",
    "\n",
    "# ------------------------------------------------------------------------------------\n",
    "# Setup OpenMM\n",
    "prmtop = AmberPrmtopFile(f\"../data/alanine-dipeptide.prmtop\")\n",
    "crd = AmberInpcrdFile(f\"../data/alanine-dipeptide.crd\")\n",
    "system = prmtop.createSystem(\n",
    "    nonbondedMethod=NoCutoff,\n",
    "    constraints=HBonds,\n",
    ")\n",
    "\n",
    "# remove center of mass motion\n",
    "#cmm_force = CMMotionRemover()\n",
    "#cmm_force.setFrequency(0)\n",
    "#system.addForce(cmm_force)\n",
    "\n",
    "# Initialize the `AdaptiveSamplingOpenMM` interface to couple the OpenMM simulaiton to an bias potential\n",
    "# the Openmm `simulation` object is set up internally, but can still be modified by calling `the_md.simulation` or `the_md.integrator`\n",
    "the_md = AdaptiveSamplingOpenMM(\n",
    "    crd.positions,\n",
    "    prmtop.topology,\n",
    "    system,\n",
    "    dt=2.0,                                       # timestep in fs\n",
    "    equil_temp=300.0,                             # temperature of simulation\n",
    "    langevin_damping=1.0,                         # langevin damping in 1/ps\n",
    "    cv_atoms=np.unique(cv_atoms_phi+cv_atoms_psi) # specifying CV atoms significantly speeds up simulation of large systems\n",
    ")                                                 # as the bias force will only be set for those\n",
    "the_md.integrator.setConstraintTolerance(0.00001)\n",
    "\n",
    "# Append OpenMM reporters to simulation for output \n",
    "the_md.simulation.reporters.append(DCDReporter('alanine-dipeptide.dcd', 1000))\n",
    "the_md.simulation.reporters.append(StateDataReporter(\n",
    "    stdout, \n",
    "    10000,\n",
    "    step=True,    \n",
    "    time=True,\n",
    "    potentialEnergy=True,\n",
    "    kineticEnergy=True,\n",
    "    totalEnergy=True,\n",
    "    temperature=True,\n",
    "    speed=False,\n",
    "    separator='\\t')\n",
    ")\n",
    "\n",
    "# --------------------------------------------------------------------------------------\n",
    "# Setup the sampling algorithm\n",
    "eabf_ext_sigma    = 5.0     # thermal width of coupling between CV and extended variable \n",
    "eabf_ext_mass     = 100.0   # mass of extended variable \n",
    "abf_nfull         = 500     # number of samples per bin when abf force is fully applied\n",
    "mtd_hill_height   = 0.1     # MtD hill height    \n",
    "mtd_hill_std      = 15.0    # MtD hill width\n",
    "mtd_well_tempered = 1000.0  # Well-tempered temperature\n",
    "mtd_frequency     = 100     # frequency of hill creation\n",
    "\n",
    "the_bias = WTMeABF(\n",
    "    eabf_ext_sigma, \n",
    "    eabf_ext_mass, \n",
    "    mtd_hill_height,\n",
    "    mtd_hill_std,\n",
    "    the_md, \n",
    "    collective_var_phi,     # collective variable\n",
    "    output_freq=1000,       # frequency of writing outputs\n",
    "    f_conf=0.0,             # confinement force of CV at boundaries\n",
    "    nfull=abf_nfull,        \n",
    "    equil_temp=300.0,       # equilibrium temperature of simulation\n",
    "    well_tempered_temp=mtd_well_tempered,\n",
    "    hill_drop_freq=mtd_frequency,\n",
    "    force_from_grid=True,   # accumulate metadynamics force and bias on grid\n",
    "    periodicity=periodicity,\n",
    "    kinetics=True,          # calculate importent metrics to get accurate kinetics\n",
    "    verbose=False,          # print verbose output\n",
    ")\n",
    "the_md.set_sampling_algorithm(the_bias) # to take affect the sampling algorithm has to be set in the MD interface"
   ]
  },
  {
   "cell_type": "code",
   "execution_count": null,
   "id": "807819d2-caf4-4608-8a9f-c77d789015d1",
   "metadata": {},
   "outputs": [],
   "source": [
    "# Warning: this may take a while!\n",
    "if True:\n",
    "    os.system(\"rm CV_traj.dat wtmeabf.out\")\n",
    "    the_md.run(nsteps=500000) # 500000 * 2 fs = 1 ns"
   ]
  },
  {
   "cell_type": "markdown",
   "id": "f87064b7-2090-4a6a-a6b6-2b63370fc60a",
   "metadata": {},
   "source": [
    "# Analysis of Results\n",
    "\n",
    "### Visualising the trajectory"
   ]
  },
  {
   "cell_type": "code",
   "execution_count": null,
   "id": "fd888874-3b8e-4ea6-8d6d-aa33a22a0805",
   "metadata": {},
   "outputs": [],
   "source": [
    "traj = pt.iterload(\"alanine-dipeptide.dcd\", top=\"../data/alanine-dipeptide.pdb\")\n",
    "\n",
    "view = ngl.show_pytraj(traj)\n",
    "view.clear_representations()\n",
    "view.add_ball_and_stick('@6,8,14,16', opacity=1.0) # CV atoms of phi torsion\n",
    "view.add_ball_and_stick('@4,6,8,14', opacity=1.0)  # CV atoms of psi torsion\n",
    "#view.add_ball_and_stick('@1,4,6,8', opacity=1.0)   # CV atoms of theta torsion\n",
    "\n",
    "view.add_licorice(opacity=0.5)\n",
    "view"
   ]
  },
  {
   "cell_type": "code",
   "execution_count": null,
   "id": "0b24cd68-2155-4d1f-8bf3-2cca030ce8a1",
   "metadata": {},
   "outputs": [],
   "source": [
    "cv_traj = np.loadtxt('CV_traj.dat', skiprows=1, usecols=[0,1,2,3,4])"
   ]
  },
  {
   "cell_type": "code",
   "execution_count": null,
   "id": "7694614b-b08a-49aa-983e-4fa09e9f89cc",
   "metadata": {},
   "outputs": [],
   "source": [
    "fig, axs = plt.subplots(1, 1, sharey=False, figsize=(8,6))\n",
    "axs.scatter(cv_traj[:,0]/1000, cv_traj[:,1], s=1)\n",
    "#axs.set_yticks([-180,0,180])\n",
    "axs.set_xlabel('time / ps', fontsize=30)\n",
    "axs.set_ylabel('CV / Degree', fontsize=30)\n",
    "axs.tick_params(axis='y',length=6,width=3,labelsize=25, pad=10, direction='in')\n",
    "axs.tick_params(axis='x',length=6,width=3,labelsize=25, pad=10, direction='in')\n",
    "axs.spines['bottom'].set_linewidth(3)\n",
    "axs.spines['top'].set_linewidth(3)\n",
    "axs.spines['left'].set_linewidth(3)\n",
    "axs.spines['right'].set_linewidth(3)\n",
    "fig.tight_layout()"
   ]
  },
  {
   "cell_type": "markdown",
   "id": "8017486a-3c82-43cc-a3c0-920d0e7d9e2f",
   "metadata": {},
   "source": [
    "### Use the MBAR estimator to compute ensamble properties\n",
    "\n",
    "Now we will use the MBAR estimator to calculate the unbiased weights of simulation frames. From those we compute an periodic PMF along $\\psi$."
   ]
  },
  {
   "cell_type": "code",
   "execution_count": null,
   "id": "b48d293e-7b0c-4b49-9b2b-04c6b930b37e",
   "metadata": {},
   "outputs": [],
   "source": [
    "from adaptive_sampling.processing_tools import mbar\n",
    "ext_sigma = 5.0    # thermal width of coupling between CV and extended variable \n",
    "\n",
    "# grid for free energy profile can be different than during sampling\n",
    "minimum   = -180.0    \n",
    "maximum   = 180.0    \n",
    "bin_width = 5.0  \n",
    "grid = np.arange(minimum, maximum, bin_width)\n",
    "\n",
    "cv = cv_traj[:,1]  # trajectory of collective variable\n",
    "la = cv_traj[:,2]  # trajectory of extended system\n",
    "\n",
    "# run MBAR and compute free energy profile and probability density from statistical weights\n",
    "traj_list, indices, meta_f = mbar.get_windows(grid, cv, la, ext_sigma, equil_temp=300.0)\n",
    "\n",
    "exp_U, frames_per_traj = mbar.build_boltzmann(\n",
    "    traj_list, \n",
    "    meta_f, \n",
    "    equil_temp=300.0,\n",
    "    periodicity=[-180.0,180.0],\n",
    ")\n",
    "\n",
    "weights = mbar.run_mbar(\n",
    "    exp_U,\n",
    "    frames_per_traj,\n",
    "    max_iter=10000,\n",
    "    conv=1.0e-4,\n",
    "    conv_errvec=1.0,\n",
    "    outfreq=100,\n",
    "    device='cpu',\n",
    ")\n",
    "\n",
    "pmf_mbar, rho_mbar = mbar.pmf_from_weights(grid, cv[indices], weights, equil_temp=300.0)"
   ]
  },
  {
   "cell_type": "code",
   "execution_count": null,
   "id": "25a2dbc0-31d0-4285-9e73-8d2bf461ca0d",
   "metadata": {},
   "outputs": [],
   "source": [
    "fig, axs = plt.subplots(1, 1, sharey=False, figsize=(8,6))\n",
    "\n",
    "#plt.plot(np.degrees(the_bias.grid[0]), the_bias.pmf[0], linewidth=5)\n",
    "plt.plot(grid, pmf_mbar-pmf_mbar.min(), linewidth=5)\n",
    "\n",
    "axs.set_xlabel(r'$\\psi$', fontsize=30)\n",
    "axs.set_ylabel(r'A($\\psi$)', fontsize=30)\n",
    "axs.set_xticks([-180,0,180])\n",
    "axs.tick_params(axis='y',length=6,width=3,labelsize=25, pad=10, direction='in')\n",
    "axs.tick_params(axis='x',length=6,width=3,labelsize=25, pad=10, direction='in')\n",
    "axs.spines['bottom'].set_linewidth(3)\n",
    "axs.spines['top'].set_linewidth(3)\n",
    "axs.spines['left'].set_linewidth(3)\n",
    "axs.spines['right'].set_linewidth(3)\n",
    "fig.tight_layout()"
   ]
  },
  {
   "cell_type": "markdown",
   "id": "f191be7f-9f6d-4f57-96ac-b7163a57d62a",
   "metadata": {},
   "source": [
    "### Sampling of the ($\\phi$, $\\psi$) plane (Ramadachan plot)\n",
    "\n",
    "The above PMF is largely characterised by two distict minima, which are refered to as $C7_\\mathrm{eq}$ and $C_\\mathrm{ax}$. Below those are marked in the $(\\phi,\\psi)$ plane together with samples of the trajectory."
   ]
  },
  {
   "cell_type": "code",
   "execution_count": null,
   "id": "41c1fa47-5e79-45f8-85ec-c713b80f19a5",
   "metadata": {},
   "outputs": [],
   "source": [
    "phi, psi = pt.multidihedral(traj, 'phi psi')"
   ]
  },
  {
   "cell_type": "code",
   "execution_count": null,
   "id": "b0f19936-ac58-4c44-8264-f089e14dc3b4",
   "metadata": {},
   "outputs": [],
   "source": [
    "from matplotlib.patches import Rectangle\n",
    "fig, axs = plt.subplots(1, 1, sharey=False, figsize=(8,6))\n",
    "\n",
    "axs.scatter(phi, psi, alpha=0.5, s=20)\n",
    "\n",
    "# markup minima\n",
    "fontdict = {'family': 'serif', 'color':  'red', 'weight': 'normal', 'size': 30,}\n",
    "axs.add_patch(Rectangle((-160,-5),120,180, edgecolor='red', facecolor='none', lw=4))\n",
    "axs.add_patch(Rectangle((20,-175),70,210, edgecolor='red', facecolor='none', lw=4))\n",
    "axs.text(-85,145,r'$C_{eq}$', fontdict=fontdict)\n",
    "axs.text(45,5,r'$C_{ax}$', fontdict=fontdict)\n",
    "\n",
    "# formatting\n",
    "axs.set_xlabel(r'$\\phi$', fontsize=fontdict['size'])\n",
    "axs.set_ylabel(r'$\\psi$', fontsize=fontdict['size'])\n",
    "axs.set_xlim([-180,180])\n",
    "axs.set_ylim([-180,180])\n",
    "axs.set_xticks([-180,0,180])\n",
    "axs.tick_params(axis='y',length=6,width=3,labelsize=25, pad=10, direction='in')\n",
    "axs.tick_params(axis='x',length=6,width=3,labelsize=25, pad=10, direction='in')\n",
    "axs.spines['bottom'].set_linewidth(3)\n",
    "axs.spines['top'].set_linewidth(3)\n",
    "axs.spines['left'].set_linewidth(3)\n",
    "axs.spines['right'].set_linewidth(3)\n",
    "fig.tight_layout()"
   ]
  },
  {
   "cell_type": "code",
   "execution_count": null,
   "id": "511f734e-b3d0-4d27-9bf2-725815ec58f8",
   "metadata": {},
   "outputs": [],
   "source": []
  }
 ],
 "metadata": {
  "kernelspec": {
   "display_name": "Python 3 (ipykernel)",
   "language": "python",
   "name": "python3"
  },
  "language_info": {
   "codemirror_mode": {
    "name": "ipython",
    "version": 3
   },
   "file_extension": ".py",
   "mimetype": "text/x-python",
   "name": "python",
   "nbconvert_exporter": "python",
   "pygments_lexer": "ipython3",
   "version": "3.9.10"
  }
 },
 "nbformat": 4,
 "nbformat_minor": 5
}
