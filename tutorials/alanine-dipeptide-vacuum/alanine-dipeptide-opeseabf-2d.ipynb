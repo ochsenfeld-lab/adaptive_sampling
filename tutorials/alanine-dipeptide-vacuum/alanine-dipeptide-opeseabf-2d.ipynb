{
 "cells": [
  {
   "cell_type": "code",
   "execution_count": null,
   "id": "6dc1511e-72b7-45e8-b304-4b6d3bdc2cf2",
   "metadata": {},
   "outputs": [],
   "source": [
    "import os\n",
    "from sys import stdout\n",
    "from openmm import *\n",
    "from openmm.app import *\n",
    "from openmm.unit import *\n",
    "\n",
    "import nglview as ngl\n",
    "import pytraj as pt\n",
    "import numpy as np\n",
    "import matplotlib.pyplot as plt"
   ]
  },
  {
   "cell_type": "markdown",
   "id": "28f73de5-b88f-465f-ac6a-768f7ad70dba",
   "metadata": {},
   "source": [
    "# Compute Ramadachan plot using OPES-eABF\n",
    "\n",
    "In this brief tutorial, we calculate the Ramachandran [$\\Phi$,$\\Psi$] plot of alanine dipeptide in vacuum using the OPES-eABF method.\n"
   ]
  },
  {
   "cell_type": "markdown",
   "id": "e6e82f00-549d-4daf-aceb-0d645de7567e",
   "metadata": {},
   "source": [
    "Alanine dipeptide is a popular test system for enhanced sampling algorithms because it is a minimal example of sampling challenges that are posed by many biological systems. The slow motions of the molecule are largely governed by the $\\psi$ (backbone N-C-C-N) and $\\phi$ (backbone C-N-C-C) dihedral. Below, atoms involved in this collective variable (CV) are shown in ball and stick representation, while other atoms are transparent.  "
   ]
  },
  {
   "cell_type": "code",
   "execution_count": null,
   "id": "6892a570-7bcc-48c9-9ec9-f0e47399d186",
   "metadata": {},
   "outputs": [],
   "source": [
    "traj = pt.load(\"../data/alanine-dipeptide.pdb\", top='../data/alanine-dipeptide.prmtop')\n",
    "\n",
    "view = ngl.show_pytraj(traj)\n",
    "view.clear_representations()\n",
    "view.add_ball_and_stick('@6,8,14,16', opacity=1.0) # CV atoms of phi torsion\n",
    "view.add_ball_and_stick('@4,6,8,14', opacity=1.0)  # CV atoms of psi torsion\n",
    "#view.add_ball_and_stick('@1,4,6,8', opacity=1.0)   # CV atoms of theta torsion\n",
    "\n",
    "view.add_licorice(opacity=0.5)\n",
    "view"
   ]
  },
  {
   "cell_type": "markdown",
   "id": "2415f7cc-c021-4442-ae81-4c2187d2eb60",
   "metadata": {},
   "source": [
    "# Importance sampling of $\\phi/\\psi$ with OPES-eABF\n",
    "\n",
    "Below, the OPES-eABF sampling algorithm is applied to enhance sampling in the $\\phi/\\psi$ plane. "
   ]
  },
  {
   "cell_type": "code",
   "execution_count": null,
   "id": "b2ad231f-9d4d-401b-a944-0b454216f044",
   "metadata": {
    "scrolled": true
   },
   "outputs": [],
   "source": [
    "from adaptive_sampling.sampling_tools import *\n",
    "from adaptive_sampling.interface.interface_openmm import AdaptiveSamplingOpenMM\n",
    "\n",
    "# ------------------------------------------------------------------------------------\n",
    "# define collective variables\n",
    "cv_atoms_psi    = [6, 8, 14, 16]  # backbone N-C-C-N torsion\n",
    "cv_atoms_phi    = [4, 6, 8, 14]   # backbone C-N-C-C torsion\n",
    "minimum         = -180.0          # minimum of the CV\n",
    "maximum         = 180.0           # maximum of the CV\n",
    "bin_width       = 5.0             # bin with along the CV\n",
    "periodicity     = [               # define periodicity of CVs\n",
    "    [-np.pi, np.pi],\n",
    "    [-np.pi, np.pi],\n",
    "]\n",
    "\n",
    "collective_var = [\n",
    "    [\"torsion\", cv_atoms_psi, minimum, maximum, bin_width],\n",
    "    [\"torsion\", cv_atoms_phi, minimum, maximum, bin_width],\n",
    "]\n",
    "\n",
    "# ------------------------------------------------------------------------------------\n",
    "# Setup OpenMM\n",
    "prmtop = AmberPrmtopFile(f\"../data/alanine-dipeptide.prmtop\")\n",
    "crd = AmberInpcrdFile(f\"../data/alanine-dipeptide.crd\")\n",
    "system = prmtop.createSystem(\n",
    "    nonbondedMethod=NoCutoff,\n",
    "    constraints=HBonds,\n",
    ")\n",
    "\n",
    "# remove center of mass motion\n",
    "#cmm_force = CMMotionRemover()\n",
    "#cmm_force.setFrequency(10)\n",
    "#system.addForce(cmm_force)\n",
    "\n",
    "# Initialize the `AdaptiveSamplingOpenMM` interface to couple the OpenMM simulaiton to an bias potential\n",
    "# the Openmm `simulation` object is set up internally, but can still be modified by calling `the_md.simulation` or `the_md.integrator`\n",
    "the_md = AdaptiveSamplingOpenMM(\n",
    "    crd.positions,\n",
    "    prmtop.topology,\n",
    "    system,\n",
    "    dt=2.0,                                       # timestep in fs\n",
    "    equil_temp=300.0,                             # temperature of simulation\n",
    "    langevin_damping=1.0,                         # langevin damping in 1/ps\n",
    "    cv_atoms=np.unique(cv_atoms_phi+cv_atoms_psi) # specifying CV atoms significantly speeds up simulation of large systems, as the bias force will only be calculated for those\n",
    ")\n",
    "the_md.integrator.setConstraintTolerance(0.00001)\n",
    "\n",
    "# Append OpenMM reporters to simulation for output \n",
    "the_md.simulation.reporters.append(DCDReporter('alanine-dipeptide.dcd', 100))\n",
    "the_md.simulation.reporters.append(StateDataReporter(\n",
    "    stdout, \n",
    "    1000,\n",
    "    step=True,\n",
    "    time=True,\n",
    "    potentialEnergy=True,\n",
    "    kineticEnergy=True,\n",
    "    totalEnergy=True,\n",
    "    temperature=True,\n",
    "    speed=False,\n",
    "    separator='\\t')\n",
    ")"
   ]
  },
  {
   "cell_type": "code",
   "execution_count": null,
   "id": "a5a9fcef-7d41-42fb-be06-a66feb2c96da",
   "metadata": {},
   "outputs": [],
   "source": [
    "# --------------------------------------------------------------------------------------\n",
    "# Setup the sampling algorithm\n",
    "eabf_ext_sigma    = 5.0           # thermal width of coupling between CV and extended variable in Degree\n",
    "eabf_ext_mass     = 100.0         # mass of extended variable \n",
    "abf_nfull         = 100           # number of samples per bin when abf force is fully applied\n",
    "\n",
    "opes_kernel_std   = None          # kernel standard deviation\n",
    "opes_frequency    = 500           # frequency of kernel creation in MD steps\n",
    "opes_barrier      = 50.0          # Barrier parameter in kJ/mol \n",
    "opes_adaptive     = True          # Adaptive kernels\n",
    "opes_gamma        = None          # Bias factor for Well-Tempered distribution, if None, calculated from barrier factor\n",
    "\n",
    "the_bias = OPESeABF(\n",
    "    the_md, \n",
    "    collective_var,               # collective variable\n",
    "    # eABF parameters \n",
    "    ext_sigma=eabf_ext_sigma,\n",
    "    ext_mass=eabf_ext_mass,\n",
    "    nfull=abf_nfull,       \n",
    "    # OPES parameters\n",
    "    kernel_std=opes_kernel_std,\n",
    "    update_freq=opes_frequency,\n",
    "    bias_factor=opes_gamma,\n",
    "    adaptive_std=opes_adaptive,\n",
    "    energy_barr=opes_barrier,\n",
    "    # general parameters\n",
    "    output_freq=1000,             # frequency of writing outputs\n",
    "    f_conf=0.0,                   # confinement force of CV at boundaries\n",
    "    equil_temp=300.0,             # equilibrium temperature of simulation\n",
    "    periodicity=periodicity,      # periodicity of CVs\n",
    "    verbose=True,                 # print verbose output\n",
    ")\n",
    "the_md.set_sampling_algorithm(the_bias) # to take affect the sampling algorithm has to be set in the MD interface"
   ]
  },
  {
   "cell_type": "code",
   "execution_count": null,
   "id": "807819d2-caf4-4608-8a9f-c77d789015d1",
   "metadata": {},
   "outputs": [],
   "source": [
    "# Warning: this may take a while!\n",
    "if True:\n",
    "    os.system(\"rm CV_traj.dat eabf.out\")\n",
    "the_md.run(nsteps=50000) # 500000 * 2 fs = 1 ns"
   ]
  },
  {
   "cell_type": "markdown",
   "id": "f87064b7-2090-4a6a-a6b6-2b63370fc60a",
   "metadata": {},
   "source": [
    "# Analysis of Results\n",
    "\n",
    "### Visualize the trajectory with NGlView"
   ]
  },
  {
   "cell_type": "code",
   "execution_count": null,
   "id": "fd888874-3b8e-4ea6-8d6d-aa33a22a0805",
   "metadata": {},
   "outputs": [],
   "source": [
    "path = '.' \n",
    "traj = pt.iterload(f\"{path}/alanine-dipeptide.dcd\", top=\"../data/alanine-dipeptide.pdb\")\n",
    "\n",
    "view = ngl.show_pytraj(traj)\n",
    "view.clear_representations()\n",
    "view.add_ball_and_stick('@6,8,14,16', opacity=1.0) # CV atoms of phi torsion\n",
    "view.add_ball_and_stick('@4,6,8,14', opacity=1.0)  # CV atoms of psi torsion\n",
    "#view.add_ball_and_stick('@1,4,6,8', opacity=1.0)   # CV atoms of theta torsion\n",
    "\n",
    "view.add_licorice(opacity=0.5)\n",
    "view"
   ]
  },
  {
   "cell_type": "markdown",
   "id": "286ab551-b83a-44d0-980c-97a1adef21d5",
   "metadata": {},
   "source": [
    "# Trajectory of CVs"
   ]
  },
  {
   "cell_type": "code",
   "execution_count": null,
   "id": "0b24cd68-2155-4d1f-8bf3-2cca030ce8a1",
   "metadata": {},
   "outputs": [],
   "source": [
    "cv_traj = np.loadtxt(f'{path}/CV_traj.dat', skiprows=1)\n",
    "cv_phi = cv_traj[:,1] # Phi trajectory \n",
    "cv_psi = cv_traj[:,2] # Psi trajectory\n",
    "la_phi = cv_traj[:,3] # extended system Phi trajectory\n",
    "la_psi = cv_traj[:,4] # extended system Psi trajectory"
   ]
  },
  {
   "cell_type": "code",
   "execution_count": null,
   "id": "7694614b-b08a-49aa-983e-4fa09e9f89cc",
   "metadata": {},
   "outputs": [],
   "source": [
    "fig, axs = plt.subplots(1, 1, sharey=False, figsize=(8,6))\n",
    "axs.scatter(cv_traj[:,0]/1000, cv_phi, s=1)\n",
    "#axs.scatter(cv_traj[:,0]/1000, la_phi, s=1)\n",
    "\n",
    "axs.scatter(cv_traj[:,0]/1000, cv_psi, s=1)\n",
    "#axs.scatter(cv_traj[:,0]/1000, la_psi, s=1)\n",
    "\n",
    "axs.set_yticks([-180,0,180])\n",
    "axs.set_xlabel('time / ps', fontsize=30)\n",
    "axs.set_ylabel('CV / Degree', fontsize=30)\n",
    "axs.tick_params(axis='y',length=6,width=3,labelsize=25, pad=10, direction='in')\n",
    "axs.tick_params(axis='x',length=6,width=3,labelsize=25, pad=10, direction='in')\n",
    "axs.spines['bottom'].set_linewidth(3)\n",
    "axs.spines['top'].set_linewidth(3)\n",
    "axs.spines['left'].set_linewidth(3)\n",
    "axs.spines['right'].set_linewidth(3)\n",
    "fig.tight_layout()"
   ]
  },
  {
   "cell_type": "markdown",
   "id": "8017486a-3c82-43cc-a3c0-920d0e7d9e2f",
   "metadata": {},
   "source": [
    "# Use the MBAR estimator to compute ensemble properties\n",
    "\n",
    "Now we will use the MBAR estimator to calculate the unbiased weights of simulation frames. From those, we compute periodic PMFs in 1D and 2D.\n",
    "\n",
    "WARNING: For long simulations, this can become expensive, and it is recommended to perform the computation on an HPC cluster."
   ]
  },
  {
   "cell_type": "code",
   "execution_count": null,
   "id": "b48d293e-7b0c-4b49-9b2b-04c6b930b37e",
   "metadata": {},
   "outputs": [],
   "source": [
    "from adaptive_sampling import units\n",
    "from adaptive_sampling.processing_tools import mbar\n",
    "import os\n",
    "\n",
    "ext_sigma = np.asarray([5.0,5.0])\n",
    "\n",
    "# create grid for PMF\n",
    "minimum   = -180.0 \n",
    "maximum   = 180.0\n",
    "bin_width = 5.0\n",
    "grid_1d = np.arange(minimum, maximum, bin_width)\n",
    "xx, yy = np.meshgrid(grid_1d, grid_1d)\n",
    "grid = np.vstack([xx.flatten(),yy.flatten()])  \n",
    "\n",
    "# trajectories of CVs and extended system\n",
    "cv = np.vstack([cv_phi,cv_psi])\n",
    "la = np.vstack([cv_phi,cv_psi])\n",
    "\n",
    "if not os.path.isfile(f'{path}/results.npz'):\n",
    "\n",
    "    # run MBAR to obtain unbiased weights of frames\n",
    "    traj_list, indices, meta_f = mbar.get_windows(\n",
    "        grid.T,\n",
    "        cv.T,\n",
    "        la.T,\n",
    "        ext_sigma,\n",
    "        dx=np.asarray([bin_width,bin_width]),\n",
    "        equil_temp=300.0,\n",
    "        progress_bar=True,\n",
    "    )\n",
    "    exp_U, frames_per_traj = mbar.build_boltzmann(\n",
    "        traj_list,\n",
    "        meta_f,\n",
    "        equil_temp=300.0,\n",
    "        periodicity=[-180.,180.],\n",
    "        progress_bar=True,\n",
    "    )\n",
    "    weights = mbar.run_mbar(\n",
    "        exp_U,\n",
    "        frames_per_traj,\n",
    "        max_iter=10000,\n",
    "        conv=1.0e-4,\n",
    "        conv_errvec=1.0,\n",
    "        outfreq=10,\n",
    "        device='cpu',\n",
    "    )\n",
    "    np.savez(f\"{path}/results.npz\", W=weights, idx=indices, pmf=pmf)\n",
    "else:\n",
    "    data = np.load(f'{path}/results.npz')\n",
    "    weights = data['weigths']\n",
    "    indices = data['idx']\n",
    "    grid = data['grid']\n",
    "    pmf = data['pmf']"
   ]
  },
  {
   "cell_type": "markdown",
   "id": "8f0b8847-1166-4b0d-b0e1-c633a8804e24",
   "metadata": {},
   "source": [
    "# Compute PMFs from frame weights"
   ]
  },
  {
   "cell_type": "code",
   "execution_count": null,
   "id": "b4a1e552-6566-420f-aec7-1b2bd01d37af",
   "metadata": {},
   "outputs": [],
   "source": [
    "# 1D PMFs along phi and psi \n",
    "pmf_psi, rho_psi = mbar.pmf_from_weights(grid_1d, cv_psi[indices], weights, equil_temp=300.0)\n",
    "pmf_phi, rho_phi = mbar.pmf_from_weights(grid_1d, cv_phi[indices], weights, equil_temp=300.0)\n",
    "pmf_psi -= pmf_psi.min()\n",
    "pmf_phi -= pmf_phi.min()\n",
    "\n",
    "if False:\n",
    "    # 2D (phi,psi) PMF (Ramachandran plot)\n",
    "    pmf_2d, rho = mbar.pmf_from_weights(\n",
    "        grid.T,\n",
    "        cv.T[indices],\n",
    "        weights,\n",
    "        dx=np.asarray([bin_width,bin_width]),\n",
    "        equil_temp=300.0,\n",
    "    )\n",
    "    pmf_2d  -= pmf_2d.min()"
   ]
  },
  {
   "cell_type": "code",
   "execution_count": null,
   "id": "25a2dbc0-31d0-4285-9e73-8d2bf461ca0d",
   "metadata": {},
   "outputs": [],
   "source": [
    "fig, axs = plt.subplots(1, 1, sharey=False, figsize=(8,6))\n",
    "\n",
    "#plt.plot(np.degrees(the_bias.grid[0]), the_bias.pmf[0], linewidth=5)\n",
    "plt.plot(grid_1d, pmf_psi*units.kJ_to_kcal, linewidth=5, label=r\"$\\psi$\")\n",
    "plt.plot(grid_1d, pmf_phi*units.kJ_to_kcal, linewidth=5, label=r\"$\\phi$\")\n",
    "\n",
    "axs.set_xlabel(r'CV', fontsize=30)\n",
    "axs.set_ylabel(r'PMF / kcal mol$^{-1}$', fontsize=30)\n",
    "axs.set_xticks([-180,0,180])\n",
    "axs.tick_params(axis='y',length=6,width=3,labelsize=25, pad=10, direction='in')\n",
    "axs.tick_params(axis='x',length=6,width=3,labelsize=25, pad=10, direction='in')\n",
    "axs.spines['bottom'].set_linewidth(3)\n",
    "axs.spines['top'].set_linewidth(3)\n",
    "axs.spines['left'].set_linewidth(3)\n",
    "axs.spines['right'].set_linewidth(3)\n",
    "axs.legend(fontsize=30)\n",
    "fig.tight_layout()"
   ]
  },
  {
   "cell_type": "code",
   "execution_count": null,
   "id": "11def2e1-247d-401a-b3cd-f873cc128fb1",
   "metadata": {},
   "outputs": [],
   "source": [
    "fig, axs = plt.subplots(1, 1, sharey=False, figsize=(8,6))\n",
    "\n",
    "cs = axs.contourf(xx, yy, pmf.reshape(xx.shape), levels=np.linspace(0,20,21), zorder=-1)\n",
    "CS = axs.contour(xx, yy, pmf.reshape(xx.shape), levels=np.linspace(0,20,11), colors='black', zorder=100)\n",
    "axs.clabel(CS, CS.levels, inline='true', fontsize=15, fmt=\"%2d\")\n",
    "\n",
    "axs.set_xlabel(r'$\\phi$', fontsize=25)\n",
    "axs.set_ylabel(r'$\\psi$', fontsize=25)\n",
    "axs.set_xlim([-180,175])\n",
    "axs.set_ylim([-180,175])\n",
    "axs.set_xticks([-150,0,150])\n",
    "axs.set_yticks([-150,0,150])\n",
    "axs.tick_params(axis='y',length=6,width=3,labelsize=20, pad=10, direction='in')\n",
    "axs.tick_params(axis='x',length=6,width=3,labelsize=20, pad=10, direction='in')\n",
    "axs.spines['bottom'].set_linewidth(3)\n",
    "axs.spines['top'].set_linewidth(3)\n",
    "axs.spines['left'].set_linewidth(3)\n",
    "axs.spines['right'].set_linewidth(3)\n",
    "fig.tight_layout()\n",
    "fig.savefig('PMF_2d_Ramachandran.png')"
   ]
  },
  {
   "cell_type": "code",
   "execution_count": null,
   "id": "e51b2374-aefb-4ef9-9037-45c645dacca0",
   "metadata": {},
   "outputs": [],
   "source": []
  }
 ],
 "metadata": {
  "kernelspec": {
   "display_name": "Python 3 (ipykernel)",
   "language": "python",
   "name": "python3"
  },
  "language_info": {
   "codemirror_mode": {
    "name": "ipython",
    "version": 3
   },
   "file_extension": ".py",
   "mimetype": "text/x-python",
   "name": "python",
   "nbconvert_exporter": "python",
   "pygments_lexer": "ipython3",
   "version": "3.9.22"
  }
 },
 "nbformat": 4,
 "nbformat_minor": 5
}
