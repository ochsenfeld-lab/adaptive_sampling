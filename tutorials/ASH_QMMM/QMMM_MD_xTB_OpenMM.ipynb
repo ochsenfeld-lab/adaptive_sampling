{
 "cells": [
  {
   "cell_type": "markdown",
   "id": "5fb879d0-6be8-4cf7-b7f8-15803bbfdf59",
   "metadata": {},
   "source": [
    "## QM/MM Simulation of Proton transfer in Phenanthrolin\n",
    "\n",
    "This tutorial provides an example of running up QM/MM MD simulations using ASH. \n",
    "\n",
    "Requirements:\n",
    "* ASH: https://ash.readthedocs.io/en/latest/About.html \\\\\n",
    "* xTB: https://xtb-docs.readthedocs.io/en/latest/\n",
    "* OpenMM: https://openmm.org/\n",
    "* NGLView and MDTraj for visualisation"
   ]
  },
  {
   "cell_type": "markdown",
   "id": "05cc0088-614a-4112-bcd9-6e18ce70fe0c",
   "metadata": {},
   "source": [
    "We will simulate a simple intramolecular proton of phenothrolin. Below the solvated molecule is visualized using NGLView and MDTraj."
   ]
  },
  {
   "cell_type": "code",
   "execution_count": null,
   "id": "ce0dbd0d-7082-4c9e-a8ab-e8130a23eecc",
   "metadata": {},
   "outputs": [],
   "source": [
    "import nglview as ngl\n",
    "import mdtraj as md\n",
    "\n",
    "mol = md.load_pdb('../data/phenanthrolin_solv.pdb')\n",
    "view = ngl.show_mdtraj(mol)\n",
    "view.clear_representations()\n",
    "view.add_licorice(opacity=0.25)\n",
    "view.add_representation('ball+stick', '1')\n",
    "view"
   ]
  },
  {
   "cell_type": "markdown",
   "id": "1bfae5b1-c2ae-4159-9921-504567e0443a",
   "metadata": {},
   "source": [
    "**First, an ASH fragment is created from the PDB.**"
   ]
  },
  {
   "cell_type": "code",
   "execution_count": null,
   "id": "17a99605-eaba-4f41-a98d-92ccd02ab3a8",
   "metadata": {},
   "outputs": [],
   "source": [
    "import ash\n",
    "\n",
    "mm_path = \"../data/phenanthrolin_solv\"\n",
    "frag = ash.Fragment(\n",
    "    pdbfile=f\"{mm_path}.pdb\", \n",
    "    charge=1, # charge of QM region (total charge is 0)\n",
    "    mult=1,   # multiplicity\n",
    ")"
   ]
  },
  {
   "cell_type": "markdown",
   "id": "3611e40b-c7fe-4afd-af8c-bdfbae65ef9e",
   "metadata": {},
   "source": [
    "**Next, an OpenMMTheory object is created from the ASH fragment using AMBER parameters.**"
   ]
  },
  {
   "cell_type": "code",
   "execution_count": null,
   "id": "f3773cc5-910b-44c1-8f5e-ae0fbad5fe23",
   "metadata": {},
   "outputs": [],
   "source": [
    "mm_theory = ash.OpenMMTheory(\n",
    "    cluster_fragment=frag,               # ASH Fragment \n",
    "    Amberfiles=True,                     # use Amber parameters\n",
    "    amberprmtopfile=f\"{mm_path}.parm7\",  # Amber parameter file\n",
    "    autoconstraints=None,                # Type of automatic constraints to apply to system. Options: 'HBonds', 'AllBonds', 'HAngles'\n",
    "    constraints=None,                    # List of lists of constraint definitions based on atom indices. \n",
    "    rigidwater=False,                    # Whether to automatically apply rigid water constraints for recognized water models\n",
    "    hydrogenmass=1.0,                    # Hydrogen mass repartioning value. 1.5 is OpenMM and ASH default.\n",
    "    platform=\"CPU\",                      # OpenMM platform\n",
    "    numcores=4,                          # number of CPU cores\n",
    "    printlevel=0,                        # The printlevel \n",
    "    periodic=True,                       # Periodic boundary conditions or not.\n",
    ")"
   ]
  },
  {
   "cell_type": "markdown",
   "id": "3f55410b-85c2-4594-8c83-fc3a8701ccf1",
   "metadata": {},
   "source": [
    "**For the sake of this tutorial we will use xTB as a QM method.**"
   ]
  },
  {
   "cell_type": "code",
   "execution_count": null,
   "id": "bbf64c75-8ade-4d47-a68e-2946a32f5271",
   "metadata": {},
   "outputs": [],
   "source": [
    "qm_theory = ash.xTBTheory(\n",
    "    xtbmethod=\"GFN2\",    # The xTB method\n",
    "    runmode=\"inputfile\", # Only inputfile supported for QM/MM\n",
    "    numcores=4,          # Number of CPU cores\n",
    "    printlevel=0,        # The printlevel\n",
    ")"
   ]
  },
  {
   "cell_type": "markdown",
   "id": "eb668983-f97f-4b05-80dd-23aefb93fb43",
   "metadata": {},
   "source": [
    "**Finally, the QMMMTheory is created, connecting the QM theory to the OpenMMTheory.**"
   ]
  },
  {
   "cell_type": "code",
   "execution_count": null,
   "id": "d37c48ae-f91e-4137-b834-6b2332220c35",
   "metadata": {},
   "outputs": [],
   "source": [
    "qm_atoms = [i for i in range(0, 23)] # QM atoms\n",
    "\n",
    "qmmm_theory = ash.QMMMTheory(\n",
    "    qm_theory=qm_theory,        # ASH QM Theory object\n",
    "    mm_theory=mm_theory,        # ASH MM Theory object (should be OpenMMTheory)\n",
    "    fragment=frag,              # ASH Fragment\n",
    "    embedding=\"Elstat\",         # QM/MM embedding type\n",
    "    qmatoms=qm_atoms,           # The QM atoms (list of atom indices)\n",
    "    printlevel=0,               # The printlevel\n",
    "    unusualboundary=False,      # Optional: Boundary-option: overrides ASH from quitting if an unusual QM-MM boundary is found.\n",
    "    TruncatedPC=False,          # Optional: Truncated Pointcharge Option on or off.\n",
    "    TruncPCRadius=55.0,         # Optional: Truncated PC option; Radius (Å) for the truncated PC region.\n",
    "    TruncatedPC_recalc_iter=50, # Optional: Truncated PC option; frequency for recalculating with full PC field.\n",
    ")"
   ]
  },
  {
   "cell_type": "markdown",
   "id": "412befc9-64aa-4a30-b194-5d967cdaaf5c",
   "metadata": {},
   "source": [
    "**To check the validity of the QM/MM Theory we perform a singlepoint calculation.**"
   ]
  },
  {
   "cell_type": "code",
   "execution_count": null,
   "id": "64648a25-f6f3-4002-bbff-e252ff267859",
   "metadata": {},
   "outputs": [],
   "source": [
    "result = ash.Singlepoint(theory=qmmm_theory, fragment=frag, Grad=False)"
   ]
  },
  {
   "cell_type": "markdown",
   "id": "230afd0d-0389-42ed-b6e4-9c0799e0fe1e",
   "metadata": {},
   "source": [
    "### Molecular Dynamics (MD)\n",
    "\n",
    "Now that the QM/MM system was successfully created, we will perform an MD simulation using the adaptive-sampling package. \n",
    "\n",
    "To control the temperature, a Langevin thermostat will be applied, while the pressure is controlled by a Monte-Carlo Barostat. \n",
    "\n",
    "To enhance sampling of the proton transfer, OPES-eABF will be applied to a linear combination of the breaking and forming N-H bonds."
   ]
  },
  {
   "cell_type": "code",
   "execution_count": null,
   "id": "b5ff4e9c-d08e-46fd-aa60-eb2a0bf99078",
   "metadata": {},
   "outputs": [],
   "source": [
    "# Init the MD \n",
    "from adaptive_sampling.interface.interfaceASH import AshMD\n",
    "\n",
    "the_md = AshMD(\n",
    "    fragment=frag,                             # ASH fragment\n",
    "    calculator=qmmm_theory,                    # ASH calculator \n",
    "    dt=1.0,                                    # Time step in fs\n",
    "    thermostat=True,                           # Apply Langevin thermostat \n",
    "    friction=1.0e-3,                           # Friction for Langevon thermostat\n",
    "    target_temp=300.0,                         # The target temperature in Kelvin\n",
    "    barostat=True,                             # Apply Monte-Carlo barostat\n",
    "    target_pressure=1.0,                       # The target pressure in Bar\n",
    "    barostat_freq=25,                          # Frequency of updating the barostat\n",
    "    barostat_reporter='barostat.log',          # Store barostat information \n",
    "    seed=42,                                   # The random seed \n",
    ")\n",
    "\n",
    "# Init bias potentials and confinements\n",
    "from adaptive_sampling.sampling_tools import OPESeABF\n",
    "\n",
    "# setup the Collective Variable (CV)\n",
    "cv_type = \"lin_comb_dists\"       # linear combination of bond distances\n",
    "cv_def = [\n",
    "    ['distance', -1.0, [2,22]],  # proton distance to N1\n",
    "    ['distance', 1.0, [12,22]],  # proton distance to N2\n",
    "]\n",
    "cv_min = -2.0                    # Minimum of CV grid\n",
    "cv_max = 2.0                     # Maximum of CV grid\n",
    "cv_binwidth = 0.05               # Bin width for CV grid\n",
    "the_cv = [[cv_type, cv_def, cv_min, cv_max, cv_binwidth], ]\n",
    "\n",
    "# setup the sampling algorithm\n",
    "ext_sigma       = 0.05  # coupling width for extended system\n",
    "ext_mass        = 20.0  # mass of fictitious particles of extended system\n",
    "opes_kernel_std = 0.2   # Initial standard deviation of kernels for OPES\n",
    "\n",
    "the_bias = OPESeABF(\n",
    "    the_md,\n",
    "    the_cv,\n",
    "    ext_sigma=ext_sigma,\n",
    "    ext_mass=ext_mass,\n",
    "    kernel_std=opes_kernel_std,\n",
    "    f_conf=100.0,\n",
    "    output_freq=1000,\n",
    ")\n",
    "\n",
    "the_md.calc_init(\n",
    "    init_momenta=\"random\", \n",
    "    biaspots=[the_bias, ], \n",
    "    init_temp=300.0\n",
    ")"
   ]
  },
  {
   "cell_type": "markdown",
   "id": "664cd4d0-a882-45b2-baf4-c2bd4c589169",
   "metadata": {},
   "source": [
    "**Run the MD.**\n",
    "\n",
    "Note, that only 1000 MD steps are performed here for demonstration because of the associated computational cost. \n",
    "To obtain converged results a much longer simulation is required. "
   ]
  },
  {
   "cell_type": "code",
   "execution_count": null,
   "id": "82339cd9-2816-40dd-ace1-aaff0be5058f",
   "metadata": {},
   "outputs": [],
   "source": [
    "the_md.run(\n",
    "    nsteps=1000,               # number of steps\n",
    "    out_freq=100,              # frequency of writing MD output \n",
    "    dcd_freq=10,               # frequency of writing coordinates to dcd trajectory \n",
    "    restart_freq=100,          # frequency of writing restart files\n",
    "    remove_rotation=False,     # remove center of mass rotation in MD (not needed with periodic boundary conditions)\n",
    "    prefix=f\"Production_01\",   # prefix for AshMD output files \n",
    ")"
   ]
  },
  {
   "cell_type": "markdown",
   "id": "c3232752-a492-41a2-9e53-bb32b4a9c11e",
   "metadata": {},
   "source": [
    "## Visualize results. \n",
    "\n",
    "**Note that to converge results, a much longer simulation than 1000 MD steps is required.**"
   ]
  },
  {
   "cell_type": "code",
   "execution_count": null,
   "id": "c727c4f3-6488-41ac-9f70-488d66beef2c",
   "metadata": {},
   "outputs": [],
   "source": [
    "mol = md.load_dcd('Production_01_traj.dcd', top='../data/phenanthrolin_solv.parm7')\n",
    "view = ngl.show_mdtraj(mol)\n",
    "view.clear_representations()\n",
    "view.add_licorice(opacity=0.25)\n",
    "view.add_representation('ball+stick', '0')\n",
    "view"
   ]
  },
  {
   "cell_type": "code",
   "execution_count": null,
   "id": "448ac921-e144-4064-8b62-3900340d75f8",
   "metadata": {},
   "outputs": [],
   "source": [
    "import numpy as np\n",
    "import matplotlib.pyplot as plt\n",
    "\n",
    "cv_traj = np.loadtxt(\"CV_traj.dat\", skiprows=1)\n",
    "barostat_log = np.loadtxt(\"barostat.log\")"
   ]
  },
  {
   "cell_type": "markdown",
   "id": "e62e3689-a237-4e78-b721-d648dd6ee7ba",
   "metadata": {},
   "source": [
    "At atmospheric pressure the density of the periodic box should converge roughly to 1.0 g/cm$^3$ due to the barostat. \n",
    "\n",
    "Afterwards, the system is equilibrated and the remaning data can be used for production (e.g. to calculate the free energy profile of the proton transfer)."
   ]
  },
  {
   "cell_type": "code",
   "execution_count": null,
   "id": "b5a2a43f-a434-4142-9c45-cfd616390f43",
   "metadata": {},
   "outputs": [],
   "source": [
    "fig, ax1 = plt.subplots()\n",
    "\n",
    "color = 'tab:red'\n",
    "ax1.set_xlabel('time (fs)', fontsize=20)\n",
    "ax1.set_ylabel('Volume (nm$^3$)', color=color, fontsize=20)\n",
    "ax1.plot(barostat_log[:,0], barostat_log[:,1], color=color)\n",
    "ax1.tick_params(axis='y', labelcolor=color, labelsize=15)\n",
    "ax1.tick_params(axis='x', labelsize=15)\n",
    "\n",
    "ax2 = ax1.twinx()  \n",
    "\n",
    "color = 'tab:blue'\n",
    "ax2.set_ylabel('Density (g/cm$^3$)', color=color, fontsize=20) \n",
    "ax2.plot(barostat_log[:,0], barostat_log[:,2], color=color)\n",
    "ax2.tick_params(axis='y', labelcolor=color, labelsize=15)\n",
    "\n",
    "fig.tight_layout() \n",
    "plt.show()"
   ]
  },
  {
   "cell_type": "markdown",
   "id": "09a4ae22-26d3-42a4-8061-d563e68e66b8",
   "metadata": {},
   "source": [
    "Below, the trajectory of the CV is plotted. In longer simulations, as the proton jumps back and forth between both N-atoms because of the OPES-eABF bias, it should diffuse between negative and positive values, indicating that the proton is bound to one or the other N atom.  "
   ]
  },
  {
   "cell_type": "code",
   "execution_count": null,
   "id": "4c9f6df1-dfa8-47cf-8a8f-1e60c01254a3",
   "metadata": {},
   "outputs": [],
   "source": [
    "fig, ax1 = plt.subplots()\n",
    "\n",
    "ax1.plot(cv_traj[:,0], cv_traj[:,1], color='tab:red')                # trajectory of the CV\n",
    "ax1.plot(cv_traj[:,0], cv_traj[:,2], color='tab:blue', linewidth=4)  # trajectory of the extended-system, that is coupled to the CV\n",
    "ax1.set_xlabel('time (fs)', fontsize=20)\n",
    "ax1.set_ylabel('CV', fontsize=20)\n",
    "ax1.tick_params(axis='y', labelsize=15)\n",
    "ax1.tick_params(axis='x', labelsize=15)\n",
    "\n",
    "fig.tight_layout() \n",
    "plt.show()"
   ]
  },
  {
   "cell_type": "markdown",
   "id": "d8b516c6-6af8-4d24-9406-2d235b461f9d",
   "metadata": {},
   "source": [
    "If multiple transitions between both minima are observed, the potential of mean force (PMF), i.e., free energy profile, of the transition can be calculated using thermodynamic integration or using the MBAR estimator. Below, the former is used as we are only interested in the PMF and do not aim for general reweighting of the trajectory."
   ]
  },
  {
   "cell_type": "code",
   "execution_count": null,
   "id": "7fc4b0b1-d1bd-4b23-9d24-79cfaf84f5ca",
   "metadata": {},
   "outputs": [],
   "source": [
    "from adaptive_sampling.processing_tools import thermodynamic_integration as ti\n",
    "from adaptive_sampling import units\n",
    "\n",
    "ext_sigma = 0.05                       # Coupling width of the extended system as applied in the simulation\n",
    "grid      = np.linspace(-1.4, 1.4, 57) # Grid for the CV\n",
    "bin_width = grid[1]-grid[0]            # Bin width of the grid\n",
    "\n",
    "grad_pmf = ti.czar(\n",
    "    grid=grid,                         # CV grid\n",
    "    cv=cv_traj[:,1],                   # Trajectory of the CV\n",
    "    la=cv_traj[:,2],                   # Trajectory of the extended system\n",
    "    sigma=ext_sigma,                   # Coupling width of the extended system\n",
    "    equil_temp=300.0,                  # Temperature of the simulation\n",
    "    periodicity=None,                  # Periodicity of the CV\n",
    ")\n",
    "\n",
    "pmf, rho = ti.integrate(\n",
    "    grad_pmf,                          # Gradient of the PMF\n",
    "    bin_width,                         # Bin width\n",
    "    equil_temp=300.0,                  # Temperature of the simulation\n",
    "    method='simpson',                  # Integrate using Simpson's rule\n",
    ")"
   ]
  },
  {
   "cell_type": "markdown",
   "id": "35c6940b-c2a2-4945-8a22-626347fd1d11",
   "metadata": {},
   "source": [
    "If the simulation is convergent, the PMF should be symmetrical and resemble a double well potential."
   ]
  },
  {
   "cell_type": "code",
   "execution_count": null,
   "id": "04175f3b-3056-499a-af7f-74788e5488b9",
   "metadata": {},
   "outputs": [],
   "source": [
    "fig, ax1 = plt.subplots()\n",
    "\n",
    "ax1.plot(grid, pmf, color='tab:red') \n",
    "ax1.set_xlabel(r'CV / A', fontsize=20)\n",
    "ax1.set_ylabel('A / kcal mol$^{-1}$', fontsize=20)\n",
    "ax1.tick_params(axis='y', labelsize=15)\n",
    "ax1.tick_params(axis='x', labelsize=15)\n",
    "\n",
    "fig.tight_layout() \n",
    "plt.show()"
   ]
  },
  {
   "cell_type": "code",
   "execution_count": null,
   "id": "15876a38-fda4-43c2-99ac-be7d2205d291",
   "metadata": {},
   "outputs": [],
   "source": []
  }
 ],
 "metadata": {
  "kernelspec": {
   "display_name": "Python 3 (ipykernel)",
   "language": "python",
   "name": "python3"
  },
  "language_info": {
   "codemirror_mode": {
    "name": "ipython",
    "version": 3
   },
   "file_extension": ".py",
   "mimetype": "text/x-python",
   "name": "python",
   "nbconvert_exporter": "python",
   "pygments_lexer": "ipython3",
   "version": "3.9.22"
  }
 },
 "nbformat": 4,
 "nbformat_minor": 5
}
