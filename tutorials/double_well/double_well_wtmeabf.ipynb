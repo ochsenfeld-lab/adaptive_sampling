{
 "cells": [
  {
   "cell_type": "code",
   "execution_count": null,
   "id": "6dc1511e-72b7-45e8-b304-4b6d3bdc2cf2",
   "metadata": {},
   "outputs": [],
   "source": [
    "import os\n",
    "from sys import stdout\n",
    "\n",
    "import nglview as ngl\n",
    "import pytraj as pt\n",
    "import numpy as np\n",
    "import matplotlib.pyplot as plt\n",
    "\n",
    "font = {'family': 'serif',\n",
    "        'weight': 'normal',\n",
    "        'size': 22,\n",
    "        }\n",
    "plt.rc('text', usetex=True)\n",
    "plt.rc('font', family='serif')"
   ]
  },
  {
   "cell_type": "markdown",
   "id": "2415f7cc-c021-4442-ae81-4c2187d2eb60",
   "metadata": {},
   "source": [
    "# WTM-eABF for a particle in a double-well potential\n",
    "\n",
    "As a simple test case we consider a single particle on a 2D double well potential. An optimal Collective Variable (CV) for the transition is trivially given by the x-Axis."
   ]
  },
  {
   "cell_type": "code",
   "execution_count": null,
   "id": "e55ba187-4a7c-4fc9-b4b2-2e1e02ed30b5",
   "metadata": {},
   "outputs": [],
   "source": [
    "def double_well_potential(coord_x, coord_y):\n",
    "    \"\"\" Analytical double well potential\n",
    "    \"\"\"\n",
    "    a = 8.0e-6\n",
    "    b = 0.5\n",
    "    d = 80.0\n",
    "    e = 160.0\n",
    "\n",
    "    s1 = (coord_x-d)*(coord_x-d)\n",
    "    s2 = (coord_x-e)*(coord_x-e)\n",
    "\n",
    "    return a * s1*s2 + b*coord_y*coord_y\n",
    "\n",
    "coords_x = np.arange(60,181,1.0)\n",
    "coords_y = np.arange(-8,8,0.1)\n",
    "xx,yy = np.meshgrid(coords_x,coords_y)\n",
    "\n",
    "PES = double_well_potential(xx,yy)"
   ]
  },
  {
   "cell_type": "code",
   "execution_count": null,
   "id": "fef542a7-ded0-4c7c-b6b6-dd2997350903",
   "metadata": {},
   "outputs": [],
   "source": [
    "def double_well_curvature(coords_x):\n",
    "    a = 8.0e-6\n",
    "    b = 0.5\n",
    "    d = 80.0\n",
    "    e = 160.0\n",
    "    fac = 6.*e-6.*d\n",
    "    return 2.*a*(6.*coords_x*coords_x+(-6.*d-6.*e)*coords_x+d*d+4.*e*d+e*e)"
   ]
  },
  {
   "cell_type": "code",
   "execution_count": null,
   "id": "601caf48-a6ac-49e3-835b-c42dc065f2bd",
   "metadata": {},
   "outputs": [],
   "source": [
    "from adaptive_sampling import units\n",
    "\n",
    "k = double_well_curvature(80)\n",
    "var = (units.kB_in_atomic*units.atomic_to_kJmol*300.0)/k\n",
    "std = np.sqrt(var)\n",
    "\n",
    "print(f\"The optimal variance is: {var}\")\n",
    "print(f\"the optimal standard deviation is: {std}\")"
   ]
  },
  {
   "cell_type": "code",
   "execution_count": null,
   "id": "0e81e477-9434-4b20-ae1e-8fcde2ef07cc",
   "metadata": {},
   "outputs": [],
   "source": [
    "def plot_potential(axs, xx, yy, PES):\n",
    "\n",
    "    # calculate the potential energy surface\n",
    "    coords_x = np.arange(60,181,1.0)\n",
    "    coords_y = np.arange(-8,8,0.1)\n",
    "    xx,yy = np.meshgrid(coords_x,coords_y)\n",
    "\n",
    "    PES = double_well_potential(xx,yy)\n",
    "    \n",
    "    # plot the potential energy surface\n",
    "    CS = axs.contour(xx, yy, PES, colors='black', levels=12, linewidths=2.5, zorder=1)\n",
    "    plt.clabel(CS, CS.levels, inline='true', fontsize=25, fmt=\"%5.3f\")\n",
    "    axs.tick_params(axis='y',length=8,width=4,labelsize=30, pad=10, direction='in')\n",
    "    axs.tick_params(axis='x',length=8,width=4,labelsize=30, pad=10, direction='in')\n",
    "    axs.set_ylabel('y / \\AA', fontsize=40)\n",
    "    axs.set_xlabel('x / \\AA', fontsize=40)\n",
    "    axs.set_xlim([70,170])\n",
    "    axs.set_ylim([-5,5])\n",
    "\n",
    "    axs.spines['bottom'].set_linewidth(3)\n",
    "    axs.spines['top'].set_linewidth(3)\n",
    "    axs.spines['left'].set_linewidth(3)\n",
    "    axs.spines['right'].set_linewidth(3)\n",
    "    return axs"
   ]
  },
  {
   "cell_type": "code",
   "execution_count": null,
   "id": "e8ffe492-ac26-4729-abb9-f125f7bf35b9",
   "metadata": {},
   "outputs": [],
   "source": [
    "plt.rcParams[\"figure.figsize\"] = [8,6]\n",
    "fig, axs = plt.subplots(ncols=1)\n",
    "\n",
    "axs = plot_potential(axs, xx, yy, PES)\n",
    "\n",
    "axs.spines['bottom'].set_linewidth(3)\n",
    "axs.spines['top'].set_linewidth(3)\n",
    "axs.spines['left'].set_linewidth(3)\n",
    "axs.spines['right'].set_linewidth(3)\n",
    "fig.tight_layout()\n",
    "plt.show()\n",
    "plt.close()"
   ]
  },
  {
   "cell_type": "markdown",
   "id": "88b94af0-4a14-4a84-a61f-faa6589a767c",
   "metadata": {},
   "source": [
    "### Setup the simulation\n",
    "\n",
    "We will make use of the WTM-eABF sampling algorithm along the x-axis. "
   ]
  },
  {
   "cell_type": "code",
   "execution_count": null,
   "id": "b2ad231f-9d4d-401b-a944-0b454216f044",
   "metadata": {
    "scrolled": true
   },
   "outputs": [],
   "source": [
    "from adaptive_sampling.sampling_tools import *\n",
    "from adaptive_sampling.interface.interfaceMD_2D import MD\n",
    "from adaptive_sampling.units import *\n",
    "\n",
    "# ------------------------------------------------------------------------------------\n",
    "# define collective variables\n",
    "cv_atoms        = []              # not needed for 2D potentials\n",
    "minimum         = 70.0            # minimum of the CV\n",
    "maximum         = 170.0           # maximum of the CV\n",
    "bin_width       = 2.0             # bin with along the CV\n",
    "\n",
    "collective_var = [[\"x\", cv_atoms, minimum, maximum, bin_width]]\n",
    "\n",
    "# ------------------------------------------------------------------------------------\n",
    "# setup MD\n",
    "mass      = 10.0   # mass of particle in a.u.\n",
    "seed      = 42     # random seed\n",
    "dt        = 5.0e0  # stepsize in fs\n",
    "temp      = 300.0  # temperature in K\n",
    "\n",
    "coords_in = [71.0, 0.5]\n",
    "\n",
    "the_md = MD(\n",
    "    mass_in=mass,\n",
    "    coords_in=coords_in,\n",
    "    potential=\"1\",\n",
    "    dt_in=dt,\n",
    "    target_temp_in=temp,\n",
    "    seed_in=seed,\n",
    ")\n",
    "the_md.calc_init()\n",
    "the_md.calc_etvp()\n",
    "\n",
    "# --------------------------------------------------------------------------------------\n",
    "# Setup the sampling algorithm\n",
    "eabf_ext_sigma    = 2.0     # thermal width of coupling between CV and extended variable \n",
    "eabf_ext_mass     = 20.0    # mass of extended variable in a.u.\n",
    "abf_nfull         = 500     # number of samples per bin when abf force is fully applied\n",
    "mtd_hill_height   = 1.0     # MtD hill height in kJ/mol   \n",
    "mtd_hill_std      = 4.0     # MtD hill width\n",
    "mtd_well_tempered = 4200.0  # MtD Well-tempered temperature\n",
    "mtd_frequency     = 100     # MtD frequency of hill creation\n",
    "output_freq       = 1000    # frequency of writing outputs\n",
    "\n",
    "the_bias = WTMeABF(\n",
    "    the_md, \n",
    "    collective_var,         # collective variable\n",
    "    ext_sigma=eabf_ext_sigma,\n",
    "    ext_mass=eabf_ext_mass,\n",
    "    hill_height=mtd_hill_height,\n",
    "    hill_std=mtd_hill_std,\n",
    "    hill_drop_freq=mtd_frequency,\n",
    "    well_tempered_temp=mtd_well_tempered,\n",
    "    force_from_grid=True,   # accumulate metadynamics force and bias on grid\n",
    "    output_freq=output_freq,       \n",
    "    f_conf=0.0,             # confinement force of CV at boundaries\n",
    "    nfull=abf_nfull,        \n",
    "    equil_temp=temp,        # equilibrium temperature of simulation\n",
    "    kinetics=True,          # calculate importent metrics to get accurate kinetics\n",
    "    verbose=True,          # print verbose output\n",
    "    multiple_walker=False,\n",
    ")\n",
    "the_bias.step_bias()"
   ]
  },
  {
   "cell_type": "code",
   "execution_count": null,
   "id": "fe650f25-eb0d-4f58-9f5a-e76cfb891724",
   "metadata": {},
   "outputs": [],
   "source": [
    "def print_output(the_md):\n",
    "    print(\"%11.2f\\t%14.6f\\t%14.6f\\t%14.6f\\t%14.6f\\t%14.6f\\t%14.6f\" % (\n",
    "        the_md.step * the_md.dt * atomic_to_fs,\n",
    "        the_md.coords[0],\n",
    "        the_md.coords[1],\n",
    "        the_md.epot,\n",
    "        the_md.ekin,\n",
    "        the_md.epot + the_md.ekin,\n",
    "        the_md.temp,\n",
    "    ))"
   ]
  },
  {
   "cell_type": "markdown",
   "id": "9fef5d66-6c21-4836-a262-f5333da6115f",
   "metadata": {},
   "source": [
    "### Run MD"
   ]
  },
  {
   "cell_type": "code",
   "execution_count": null,
   "id": "9f3cdafc-42e8-403a-a84c-b6fc0eb80afb",
   "metadata": {},
   "outputs": [],
   "source": [
    "# remove old output\n",
    "if True:\n",
    "    os.system(\"rm CV_traj.dat\")"
   ]
  },
  {
   "cell_type": "code",
   "execution_count": null,
   "id": "2f6b35d3-bd5d-43da-8502-99d44e824dc9",
   "metadata": {},
   "outputs": [],
   "source": [
    "nsteps     = 200000\n",
    "traj_freq  = 10\n",
    "print_freq = 1000\n",
    "x,y        = [],[]\n",
    "biased     = True\n",
    "\n",
    "print(\n",
    "    \"%11s\\t%14s\\t%14s\\t%14s\\t%14s\\t%14s\\t%14s\"\n",
    "    % (\"time [fs]\", \"x\", \"y\", \"E_pot\", \"E_kin\", \"E_tot\", \"Temp\")\n",
    ")\n",
    "print_output(the_md)\n",
    "\n",
    "while the_md.step < nsteps:\n",
    "    the_md.step += 1 \n",
    "\n",
    "    the_md.propagate(langevin=True)\n",
    "    the_md.calc()\n",
    "\n",
    "    if biased:\n",
    "        the_md.forces += the_bias.step_bias()\n",
    "\n",
    "    the_md.up_momenta(langevin=True)\n",
    "    the_md.calc_etvp()\n",
    "\n",
    "    if the_md.step % print_freq == 0:\n",
    "        print_output(the_md)\n",
    "    \n",
    "    if the_md.step % traj_freq == 0:\n",
    "        x.append(the_md.coords[0])\n",
    "        y.append(the_md.coords[1])"
   ]
  },
  {
   "cell_type": "markdown",
   "id": "fa9578a6-c477-4259-8320-20f048b1aee5",
   "metadata": {},
   "source": [
    "### Trajectory along the x-coordinate:"
   ]
  },
  {
   "cell_type": "code",
   "execution_count": null,
   "id": "0b24cd68-2155-4d1f-8bf3-2cca030ce8a1",
   "metadata": {},
   "outputs": [],
   "source": [
    "cv_traj = np.loadtxt('CV_traj.dat', skiprows=1)"
   ]
  },
  {
   "cell_type": "code",
   "execution_count": null,
   "id": "7694614b-b08a-49aa-983e-4fa09e9f89cc",
   "metadata": {},
   "outputs": [],
   "source": [
    "fig, axs = plt.subplots(1, 1, sharey=False, figsize=(8,6))\n",
    "axs.scatter(cv_traj[::10,0]/1000, cv_traj[::10,1], s=1)\n",
    "#axs.set_yticks([-180,0,180])\n",
    "axs.set_xlabel('time / ps', fontsize=30)\n",
    "axs.set_ylabel('CV / Degree', fontsize=30)\n",
    "axs.tick_params(axis='y',length=6,width=3,labelsize=25, pad=10, direction='in')\n",
    "axs.tick_params(axis='x',length=6,width=3,labelsize=25, pad=10, direction='in')\n",
    "axs.spines['bottom'].set_linewidth(3)\n",
    "axs.spines['top'].set_linewidth(3)\n",
    "axs.spines['left'].set_linewidth(3)\n",
    "axs.spines['right'].set_linewidth(3)\n",
    "fig.tight_layout()"
   ]
  },
  {
   "cell_type": "markdown",
   "id": "8017486a-3c82-43cc-a3c0-920d0e7d9e2f",
   "metadata": {},
   "source": [
    "### Compute the PMF\n",
    "\n",
    "Now we will use the MBAR estimator to calculate the unbiased weights of simulation frames. From those we compute the PMF along $x$."
   ]
  },
  {
   "cell_type": "code",
   "execution_count": null,
   "id": "b48d293e-7b0c-4b49-9b2b-04c6b930b37e",
   "metadata": {},
   "outputs": [],
   "source": [
    "from adaptive_sampling.processing_tools import mbar\n",
    "ext_sigma = 2.0    # thermal width of coupling between CV and extended variable \n",
    "\n",
    "# grid for free energy profile can be different than during sampling\n",
    "minimum   = 70.0    \n",
    "maximum   = 170.0    \n",
    "bin_width = 1.0  \n",
    "grid = np.arange(minimum, maximum, bin_width)\n",
    "\n",
    "cv = cv_traj[:,1]  # trajectory of collective variable\n",
    "la = cv_traj[:,2]  # trajectory of extended system\n",
    "\n",
    "# run MBAR and compute free energy profile and probability density from statistical weights\n",
    "traj_list, indices, meta_f = mbar.get_windows(grid, cv, la, ext_sigma, equil_temp=300.0)\n",
    "\n",
    "exp_U, frames_per_traj = mbar.build_boltzmann(\n",
    "    traj_list, \n",
    "    meta_f, \n",
    "    equil_temp=300.0,\n",
    ")\n",
    "\n",
    "weights = mbar.run_mbar(\n",
    "    exp_U,\n",
    "    frames_per_traj,\n",
    "    max_iter=10000,\n",
    "    conv=1.0e-4,\n",
    "    conv_errvec=1.0,\n",
    "    outfreq=100,\n",
    "    device='cpu',\n",
    ")\n",
    "\n",
    "pmf_mbar, rho_mbar = mbar.pmf_from_weights(grid, cv[indices], weights, equil_temp=300.0)"
   ]
  },
  {
   "cell_type": "code",
   "execution_count": null,
   "id": "25a2dbc0-31d0-4285-9e73-8d2bf461ca0d",
   "metadata": {},
   "outputs": [],
   "source": [
    "fig, axs = plt.subplots(1, 1, sharey=False, figsize=(8,6))\n",
    "\n",
    "#plt.plot(np.degrees(the_bias.grid[0]), the_bias.pmf[0], linewidth=5)\n",
    "plt.plot(grid, pmf_mbar-pmf_mbar.min(), linewidth=5)\n",
    "\n",
    "axs.set_xlabel(r'$x$', fontsize=30)\n",
    "axs.set_ylabel(r'$A(x)$', fontsize=30)\n",
    "axs.set_xticks([80,120,160])\n",
    "\n",
    "axs.tick_params(axis='y',length=6,width=3,labelsize=25, pad=10, direction='in')\n",
    "axs.tick_params(axis='x',length=6,width=3,labelsize=25, pad=10, direction='in')\n",
    "axs.spines['bottom'].set_linewidth(3)\n",
    "axs.spines['top'].set_linewidth(3)\n",
    "axs.spines['left'].set_linewidth(3)\n",
    "axs.spines['right'].set_linewidth(3)\n",
    "fig.tight_layout()"
   ]
  },
  {
   "cell_type": "markdown",
   "id": "f191be7f-9f6d-4f57-96ac-b7163a57d62a",
   "metadata": {},
   "source": [
    "### Sampling of the $(x,y)$ plane "
   ]
  },
  {
   "cell_type": "code",
   "execution_count": null,
   "id": "b0f19936-ac58-4c44-8264-f089e14dc3b4",
   "metadata": {},
   "outputs": [],
   "source": [
    "plt.rcParams[\"figure.figsize\"] = [8,6]\n",
    "fig, axs = plt.subplots(ncols=1)\n",
    "\n",
    "# plot the data points\n",
    "t = np.arange(len(x))\n",
    "plt.scatter(x, y, s=0.2, c=t, cmap='autumn', zorder=0)\n",
    "\n",
    "# plot the potential energy surface\n",
    "axs = plot_potential(axs, xx, yy, PES)\n",
    "\n",
    "xx1,yy1 = np.meshgrid(the_bias.grid[0], the_bias.grid[1])\n",
    "axs.contourf(xx1, yy1, the_bias.metapot)\n",
    "\n",
    "#plt.savefig(\"sampling_double_well_pot.pdf\")\n",
    "plt.show()\n",
    "plt.close()"
   ]
  },
  {
   "cell_type": "code",
   "execution_count": null,
   "id": "511f734e-b3d0-4d27-9bf2-725815ec58f8",
   "metadata": {},
   "outputs": [],
   "source": []
  },
  {
   "cell_type": "code",
   "execution_count": null,
   "id": "3a8311ee-3aa2-4323-8137-d8f2e738b768",
   "metadata": {},
   "outputs": [],
   "source": []
  }
 ],
 "metadata": {
  "kernelspec": {
   "display_name": "Python 3 (ipykernel)",
   "language": "python",
   "name": "python3"
  },
  "language_info": {
   "codemirror_mode": {
    "name": "ipython",
    "version": 3
   },
   "file_extension": ".py",
   "mimetype": "text/x-python",
   "name": "python",
   "nbconvert_exporter": "python",
   "pygments_lexer": "ipython3",
   "version": "3.9.10"
  }
 },
 "nbformat": 4,
 "nbformat_minor": 5
}
