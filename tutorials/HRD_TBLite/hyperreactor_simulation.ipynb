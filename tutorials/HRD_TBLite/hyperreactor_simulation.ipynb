{
 "cells": [
  {
   "cell_type": "markdown",
   "id": "64bc4c93-91fa-40a0-8b2f-e32b63cfeb5e",
   "metadata": {},
   "source": [
    "Import all required packages.\n",
    "---\n",
    "\n",
    "Note: The ase.py file of the tblite module is not up to date yet in the official version of the package. Until this is the case, please change it as given in this folder if you want to use xTB."
   ]
  },
  {
   "cell_type": "code",
   "execution_count": 44,
   "id": "222267e6-337b-4bd5-b48e-8ea0de1f5c24",
   "metadata": {},
   "outputs": [],
   "source": [
    "import os\n",
    "import ase.io\n",
    "from tblite.ase import TBLite\n",
    "from adaptive_sampling.interface import AseMD\n",
    "from adaptive_sampling.exploration_tools import Hyperreactor\n",
    "from adaptive_sampling.units import kB_in_atomic\n",
    "from adaptive_sampling.exploration_tools.utils import spheric_fib_init"
   ]
  },
  {
   "cell_type": "markdown",
   "id": "4d9ed4c7-8ce3-4323-9ff0-25bcf04a1314",
   "metadata": {},
   "source": [
    "Set up simulation parameters.\n",
    "---------"
   ]
  },
  {
   "cell_type": "code",
   "execution_count": null,
   "id": "4e6905f7-d32f-45b4-a82e-b3aa533f52e4",
   "metadata": {},
   "outputs": [],
   "source": [
    "jobname        = \"test\"\n",
    "\n",
    "# MD Parameters\n",
    "mute             = 1                      # controls the amount of MD ouput in the notebook/terminal\n",
    "out_freq         = 5                      # output every 50 steps\n",
    "seed             = 42                     # seed for random initialization of momenta\n",
    "\n",
    "totalt           = 5e3                    # production length [fs]\n",
    "dt               = 0.5e0                  # time step [fs]\n",
    "nsteps           = int(totalt/dt) + 1     # total number of MD production steps (add 1 to account for step 0)\n",
    "heat_steps       = 100                    # total number of MD heating steps\n",
    "\n",
    "langevin_thermos = True                   # Langevin thermostat\n",
    "init_temp        = 1.0                    # initial temperature\n",
    "target_temp      = 298.15                 # target temperature\n",
    "friction_const   = 7.0e-3                 # friction constant [1/fs]"
   ]
  },
  {
   "cell_type": "code",
   "execution_count": null,
   "id": "5491993c-d1d9-4581-969d-53d203ee780f",
   "metadata": {},
   "outputs": [],
   "source": [
    "# Molecule\n",
    "HCN_mol = ase.io.read(\"data/hcn_opt.xyz\")\n",
    "\n",
    "# for spheric_fib_init you have to initialize each molecule type as ASE Atoms like above for HCN and then provide them in a list\n",
    "# the second list contains the number of each type of molecule\n",
    "# the third element is the radius between the subshells, usually 3 Angstroms is a good choice\n",
    "atoms, radius    = spheric_fib_init([HCN_mol], [50], 3)                                      # Fibonacci initalization\n",
    "mult             = 1                                                                         # multiplicity\n",
    "charge           = 0                                                                         # charge\n",
    "atoms.calc       = TBLite(method=\"GFN2-xTB\", verbosity=0, charge=charge, multiplicity=mult)  # add calculator"
   ]
  },
  {
   "cell_type": "code",
   "execution_count": null,
   "id": "285979c4-9190-4a59-9b44-6b533ed8a488",
   "metadata": {},
   "outputs": [],
   "source": [
    "# Spherical Constraint\n",
    "\n",
    "k_conf           = 1.0                           # force constant for spherical confinement [kcal/(mol*A^2)\n",
    "r_max            = 15.0                          # maximal radius for spherical confinement [A]\n",
    "r_min            = 7.5                          # minimal radius for spherical confinement [A]\n",
    "period           = 500                          # period for the smooth-step spherical confinement [fs]\n",
    "\n",
    "# Hyperdynamics Constraint\n",
    "init_steps      = 100                            # initalization steps for hyperdynamics -> the potential is not biased here\n",
    "equil_steps     = 1000                           # the equilibration steps include the init_steps and the potential is biased while still updating the potential distributions\n",
    "aMD_parameter   = 10.0*kB_in_atomic*target_temp  # alpha/sigma0 depending on the chosen HRD (10*k_B*T is usually a good choice for sigma0) [E_h]\n",
    "\n",
    "the_md = AseMD(                                  # initialization of the MD object\n",
    "        atoms=atoms,\n",
    "        dt=dt,\n",
    "        thermostat=True,\n",
    "        target_temp=target_temp,\n",
    "        friction=friction_const,\n",
    "        seed=seed,\n",
    "        mute=mute,\n",
    "    )\n",
    "\n",
    "the_bias = Hyperreactor(                        # initialization of the bias object\n",
    "        md=the_md,\n",
    "        mode=\"GaHRD_lower\",\n",
    "        amd_parameter=aMD_parameter,\n",
    "        init_steps=init_steps,\n",
    "        equil_steps=equil_steps,\n",
    "        equil_temp=target_temp,\n",
    "        r_max=r_max,\n",
    "        r_min=r_min,\n",
    "        k_conf=k_conf,\n",
    "        t_total=period,\n",
    "    )"
   ]
  },
  {
   "cell_type": "code",
   "execution_count": null,
   "id": "99392f41-43bd-4ce8-ab7c-e98adf3ac99a",
   "metadata": {},
   "outputs": [],
   "source": [
    "print(\"========================================================================================\")\n",
    "print(\"                             XTB and MD Object Initialized                            \\n\")"
   ]
  },
  {
   "cell_type": "markdown",
   "id": "a0d35985-e0f1-4876-a693-912fc971634e",
   "metadata": {},
   "source": [
    "Start heating.\n",
    "--------------"
   ]
  },
  {
   "cell_type": "code",
   "execution_count": null,
   "id": "3c139dd5-7110-49c9-b98a-3194ad997cbc",
   "metadata": {},
   "outputs": [],
   "source": [
    "the_md.calc_init(init_temp=init_temp)      # initial step for heating\n",
    "# first heat\n",
    "the_md.heat(nsteps=heat_steps,             # heating with momenta rescaling\n",
    "        start_temp=init_temp,\n",
    "        target_temp=target_temp,\n",
    "        stages=10,\n",
    "        out_freq=out_freq,\n",
    "        prefix=\"heat_\"+jobname\n",
    "    )\n",
    "\n",
    "print(\"========================================================================================\")\n",
    "print(\"                                 Heating Completed                                    \\n\")"
   ]
  },
  {
   "cell_type": "markdown",
   "id": "83f98ae5-50b9-4654-98b0-b4900ce0d33a",
   "metadata": {},
   "source": [
    "Check chosen parameters.\n",
    "---------------------"
   ]
  },
  {
   "cell_type": "code",
   "execution_count": null,
   "id": "c70680a2-2ec1-4a73-86b2-847f0d4ab0eb",
   "metadata": {},
   "outputs": [],
   "source": [
    "print(\"========================================================================================\")\n",
    "print(\"                                 Exploration Parameters                               \\n\")\n",
    "print(\"r_max:\\t%14.3f A\"%r_max)\n",
    "print(\"r_min:\\t%14.3f A\"%r_min)\n",
    "print(\"k_conf:\\t%14.3f kcal/(mol*A^2)\"%k_conf)\n",
    "print(\"period:\\t%14.3f ps\"%(period/1000))\n",
    "print(\"init_steps:\\t%6i\"%init_steps)\n",
    "print(\"equil_steps:\\t%6i\"%equil_steps)\n",
    "print(\"sigma:\\t%14.6f E_h\"%aMD_parameter)"
   ]
  },
  {
   "cell_type": "markdown",
   "id": "f87d49d2-b13b-4a17-b4b3-b0d3387a4ac6",
   "metadata": {},
   "source": [
    "Run exploration MD.\n",
    "------------------"
   ]
  },
  {
   "cell_type": "code",
   "execution_count": null,
   "id": "2d050a4d-d802-43d3-85bd-32d9d3531da5",
   "metadata": {},
   "outputs": [],
   "source": [
    "print(\"========================================================================================\")\n",
    "print(\"                                 Exploration started                                  \\n\")\n",
    "\n",
    "the_md.set_explorationpots(the_bias)                                          # adding the bias after the heating\n",
    "the_md.calc_init(init_temp=target_temp, time_reset=True)                            # initial step of the production\n",
    "the_md.run(nsteps=nsteps, out_freq=out_freq, prefix=\"production_\"+jobname)    # MD loop"
   ]
  },
  {
   "cell_type": "code",
   "execution_count": null,
   "id": "9679f871-a293-4491-a871-91da21f19259",
   "metadata": {},
   "outputs": [],
   "source": [
    "print (\"MD Done\")"
   ]
  }
 ],
 "metadata": {
  "kernelspec": {
   "display_name": "Python 3 (ipykernel)",
   "language": "python",
   "name": "python3"
  },
  "language_info": {
   "codemirror_mode": {
    "name": "ipython",
    "version": 3
   },
   "file_extension": ".py",
   "mimetype": "text/x-python",
   "name": "python",
   "nbconvert_exporter": "python",
   "pygments_lexer": "ipython3",
   "version": "3.11.8"
  }
 },
 "nbformat": 4,
 "nbformat_minor": 5
}
