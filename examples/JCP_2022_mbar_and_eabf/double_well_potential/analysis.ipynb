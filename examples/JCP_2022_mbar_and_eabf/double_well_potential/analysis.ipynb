{
 "cells": [
  {
   "cell_type": "code",
   "execution_count": null,
   "id": "e3cc025a",
   "metadata": {},
   "outputs": [],
   "source": [
    "import numpy as np\n",
    "import matplotlib.pyplot as plt\n",
    "from adaptive_sampling.processing_tools import mbar, thermodynamic_integration"
   ]
  },
  {
   "cell_type": "code",
   "execution_count": null,
   "id": "b996609f",
   "metadata": {},
   "outputs": [],
   "source": [
    "traj_dat = np.loadtxt('CV_traj.dat', skiprows=1)"
   ]
  },
  {
   "cell_type": "code",
   "execution_count": null,
   "id": "7d8d89d7",
   "metadata": {},
   "outputs": [],
   "source": [
    "ext_sigma = 2.0    # thermal width of coupling between CV and extended variable \n",
    "\n",
    "# grid for free energy profile can be different than during sampling\n",
    "minimum   = 70.0     \n",
    "maximum   = 170.0    \n",
    "bin_width = 2.0    \n",
    "grid = np.arange(minimum, maximum, bin_width)\n",
    "\n",
    "cv = traj_dat[:,1]  # trajectory of collective variable\n",
    "la = traj_dat[:,2]  # trajectory of extended system"
   ]
  },
  {
   "cell_type": "code",
   "execution_count": null,
   "id": "0718c308",
   "metadata": {},
   "outputs": [],
   "source": [
    "# run MBAR and compute free energy profile and probability density from statistical weights\n",
    "traj_list, indices, meta_f = mbar.get_windows(grid, cv, la, ext_sigma, equil_temp=300.0)\n",
    "weights = mbar.run_mbar(traj_list, meta_f, conv=1.0e-4, conv_errvec=None, outfreq=100, equil_temp=300.0)"
   ]
  },
  {
   "cell_type": "code",
   "execution_count": null,
   "id": "78a72055",
   "metadata": {},
   "outputs": [],
   "source": [
    "pmf, rho = mbar.pmf_from_weights(grid, cv[indices], weights, equil_temp=300.0)"
   ]
  },
  {
   "cell_type": "code",
   "execution_count": null,
   "id": "a5f10945",
   "metadata": {},
   "outputs": [],
   "source": [
    "# czar free energy estimate\n",
    "czar_force = thermodynamic_integration.czar(grid, cv, la, ext_sigma, equil_temp=300.0)\n",
    "pmf_ti, rho_ti = thermodynamic_integration.integrate(czar_force, bin_width, equil_temp=300.0)"
   ]
  },
  {
   "cell_type": "code",
   "execution_count": null,
   "id": "dfb5b785",
   "metadata": {},
   "outputs": [],
   "source": [
    "fig, axs = plt.subplots(1, figsize=(8,6))\n",
    "\n",
    "axs.plot(grid, pmf, linewidth=4, label=r'eABF/MBAR')\n",
    "axs.plot(grid+bin_width, pmf_ti, linewidth=4, label='eABF/CZAR')\n",
    "\n",
    "axs.tick_params(axis='y',length=8,width=4,labelsize=30, pad=10, direction='in')\n",
    "axs.tick_params(axis='x',length=8,width=4,labelsize=30, pad=10, direction='in')\n",
    "#axs.grid()\n",
    "axs.legend(fontsize=25, loc='best', frameon=False, shadow=False)\n",
    "axs.set_xlabel(r'$x$', fontsize=40)\n",
    "axs.set_ylabel(r'$A(x)$ / kJ mol$^{-1}$', fontsize=40)\n",
    "axs.spines['bottom'].set_linewidth('3')\n",
    "axs.spines['top'].set_linewidth('3')\n",
    "axs.spines['left'].set_linewidth('3')\n",
    "axs.spines['right'].set_linewidth('3')\n",
    "\n",
    "fig.tight_layout()"
   ]
  },
  {
   "cell_type": "code",
   "execution_count": null,
   "id": "e43f0561",
   "metadata": {},
   "outputs": [],
   "source": []
  }
 ],
 "metadata": {
  "kernelspec": {
   "display_name": "Python 3 (ipykernel)",
   "language": "python",
   "name": "python3"
  },
  "language_info": {
   "codemirror_mode": {
    "name": "ipython",
    "version": 3
   },
   "file_extension": ".py",
   "mimetype": "text/x-python",
   "name": "python",
   "nbconvert_exporter": "python",
   "pygments_lexer": "ipython3",
   "version": "3.9.10"
  }
 },
 "nbformat": 4,
 "nbformat_minor": 5
}
