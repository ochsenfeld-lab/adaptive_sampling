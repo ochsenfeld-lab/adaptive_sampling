{
 "cells": [
  {
   "cell_type": "code",
   "execution_count": null,
   "id": "f18eb4cb",
   "metadata": {},
   "outputs": [],
   "source": [
    "import numpy as np\n",
    "import matplotlib.pyplot as plt\n",
    "import sys\n",
    "\n",
    "from adaptive_sampling.processing_tools import mbar, thermodynamic_integration, gamd\n",
    "from adaptive_sampling.units import *"
   ]
  },
  {
   "cell_type": "markdown",
   "id": "9bb9cc00",
   "metadata": {},
   "source": [
    "### WTM-eABF"
   ]
  },
  {
   "cell_type": "code",
   "execution_count": null,
   "id": "ec7c7d81",
   "metadata": {},
   "outputs": [],
   "source": [
    "wtmeabf_traj = np.loadtxt('wtmeabf/CV_traj.dat', skiprows=1)"
   ]
  },
  {
   "cell_type": "code",
   "execution_count": null,
   "id": "c5c713d6",
   "metadata": {},
   "outputs": [],
   "source": [
    "ext_sigma = 2.0    # thermal width of coupling between CV and extended variable \n",
    "\n",
    "# grid for free energy profile can be different than during sampling\n",
    "minimum   = -45.0     \n",
    "maximum   = 45.0    \n",
    "bin_width = 1.0    \n",
    "grid = np.arange(minimum, maximum, bin_width)\n",
    "\n",
    "cv = wtmeabf_traj[:4000000,1]  # trajectory of collective variable\n",
    "la = wtmeabf_traj[:4000000,2]  # trajectory of extended system"
   ]
  },
  {
   "cell_type": "code",
   "execution_count": null,
   "id": "4febea7a",
   "metadata": {},
   "outputs": [],
   "source": [
    "plt.plot(cv)\n",
    "plt.plot(la)"
   ]
  },
  {
   "cell_type": "code",
   "execution_count": null,
   "id": "67901767",
   "metadata": {},
   "outputs": [],
   "source": [
    "# run MBAR and compute free energy profile and probability density from statistical weights\n",
    "traj_list, indices, meta_f = mbar.get_windows(grid, cv, la, ext_sigma, equil_temp=300.0)\n",
    "exp_U, frames_per_traj = mbar.build_boltzmann(traj_list, meta_f, equil_temp=300.0)\n",
    "weights = mbar.run_mbar(exp_U, frames_per_traj, max_iter=10000, conv=1.0e-4, conv_errvec=1.0, outfreq=100, device='cpu')"
   ]
  },
  {
   "cell_type": "code",
   "execution_count": null,
   "id": "fe38d7bc",
   "metadata": {},
   "outputs": [],
   "source": [
    "pmf, rho = mbar.pmf_from_weights(grid, cv[indices], weights, equil_temp=300.0)\n",
    "pmf -= pmf.min()"
   ]
  },
  {
   "cell_type": "code",
   "execution_count": null,
   "id": "53f7805a",
   "metadata": {},
   "outputs": [],
   "source": [
    "# czar free energy estimate\n",
    "czar_force = thermodynamic_integration.czar(grid, cv, la, ext_sigma, equil_temp=300.0)\n",
    "pmf_ti, rho_ti = thermodynamic_integration.integrate(czar_force, bin_width, equil_temp=300.0)\n",
    "pmf_ti -= pmf_ti.min()"
   ]
  },
  {
   "cell_type": "code",
   "execution_count": null,
   "id": "0a8d7ede",
   "metadata": {},
   "outputs": [],
   "source": [
    "fig, axs = plt.subplots(1, figsize=(8,6))\n",
    "\n",
    "axs.plot(grid, pmf, linewidth=4, label=r'eABF/MBAR')\n",
    "axs.plot(grid+bin_width, pmf_ti, linewidth=4, label='eABF/CZAR')\n",
    "\n",
    "axs.tick_params(axis='y',length=8,width=4,labelsize=30, pad=10, direction='in')\n",
    "axs.tick_params(axis='x',length=8,width=4,labelsize=30, pad=10, direction='in')\n",
    "#axs.grid()\n",
    "axs.legend(fontsize=25, loc='best', frameon=False, shadow=False)\n",
    "axs.set_xlabel(r'$x$', fontsize=40)\n",
    "axs.set_ylabel(r'$A(x)$ / kJ mol$^{-1}$', fontsize=40)\n",
    "axs.spines['bottom'].set_linewidth(3)\n",
    "axs.spines['top'].set_linewidth(3)\n",
    "axs.spines['left'].set_linewidth(3)\n",
    "axs.spines['right'].set_linewidth(3)\n",
    "\n",
    "fig.tight_layout()"
   ]
  },
  {
   "cell_type": "markdown",
   "id": "830a8873",
   "metadata": {},
   "source": [
    "### GaWTM-eABF"
   ]
  },
  {
   "cell_type": "code",
   "execution_count": null,
   "id": "cdf887bf",
   "metadata": {},
   "outputs": [],
   "source": [
    "gawtmeabf_traj = np.loadtxt('gawtmeabf/CV_traj.dat', skiprows=1)"
   ]
  },
  {
   "cell_type": "code",
   "execution_count": null,
   "id": "46f5b5fb",
   "metadata": {},
   "outputs": [],
   "source": [
    "cv = gawtmeabf_traj[:,1]  # trajectory of collective variable\n",
    "la = gawtmeabf_traj[:,2]  # trajectory of extended system\n",
    "deltaU = gawtmeabf_traj[:,3]   # GaMD boost potential"
   ]
  },
  {
   "cell_type": "code",
   "execution_count": null,
   "id": "c8f82862",
   "metadata": {},
   "outputs": [],
   "source": [
    "plt.plot(cv)\n",
    "plt.plot(la)"
   ]
  },
  {
   "cell_type": "code",
   "execution_count": null,
   "id": "b059cb98",
   "metadata": {},
   "outputs": [],
   "source": [
    "# run MBAR and compute free energy profile and probability density from statistical weights\n",
    "traj_list, indices, meta_f = mbar.get_windows(grid, cv, la, ext_sigma, equil_temp=300.0)\n",
    "pot_list, _, _ = mbar.get_windows(grid, deltaU, la, ext_sigma, equil_temp=300.0)\n",
    "exp_U, frames_per_traj = mbar.build_boltzmann(traj_list, meta_f, equil_temp=300.0, dU_list=pot_list)\n",
    "weights = mbar.run_mbar(exp_U, frames_per_traj, max_iter=10000, conv=1.0e-4, conv_errvec=1.0, outfreq=100, device='cpu')"
   ]
  },
  {
   "cell_type": "code",
   "execution_count": null,
   "id": "977b5279",
   "metadata": {},
   "outputs": [],
   "source": [
    "pmf2, rho2 = mbar.pmf_from_weights(grid, cv[indices], weights, equil_temp=300.0)\n",
    "pmf2 -= pmf2.min()"
   ]
  },
  {
   "cell_type": "code",
   "execution_count": null,
   "id": "53b9cee4",
   "metadata": {},
   "outputs": [],
   "source": [
    "# czar free energy estimate\n",
    "czar_force = thermodynamic_integration.czar(grid, cv, la, ext_sigma, equil_temp=300.0)\n",
    "pmf_ti2, rho_ti2 = thermodynamic_integration.integrate(czar_force, bin_width, equil_temp=300.0)"
   ]
  },
  {
   "cell_type": "code",
   "execution_count": null,
   "id": "1ebcfbed",
   "metadata": {},
   "outputs": [],
   "source": [
    "# correction from GaMD\n",
    "correction = gamd.gamd_correction_n(grid, cv, deltaU * atomic_to_kJmol, korder=2, equil_temp=2)\n",
    "pmf_ti2 += correction\n",
    "pmf_ti2 -= pmf_ti2.min()"
   ]
  },
  {
   "cell_type": "code",
   "execution_count": null,
   "id": "077d9fb8",
   "metadata": {},
   "outputs": [],
   "source": [
    "fig, axs = plt.subplots(1, figsize=(8,6))\n",
    "\n",
    "#axs.plot(grid, pmf2, linewidth=4, label=r'eABF/MBAR')\n",
    "axs.plot(grid+bin_width, pmf_ti2, linewidth=4, label='eABF/CZAR')\n",
    "\n",
    "axs.tick_params(axis='y',length=8,width=4,labelsize=30, pad=10, direction='in')\n",
    "axs.tick_params(axis='x',length=8,width=4,labelsize=30, pad=10, direction='in')\n",
    "#axs.grid()\n",
    "axs.legend(fontsize=25, loc='best', frameon=False, shadow=False)\n",
    "axs.set_xlabel(r'$x$', fontsize=40)\n",
    "axs.set_ylabel(r'$A(x)$ / kJ mol$^{-1}$', fontsize=40)\n",
    "axs.spines['bottom'].set_linewidth(3)\n",
    "axs.spines['top'].set_linewidth(3)\n",
    "axs.spines['left'].set_linewidth(3)\n",
    "axs.spines['right'].set_linewidth(3)\n",
    "\n",
    "fig.tight_layout()"
   ]
  },
  {
   "cell_type": "code",
   "execution_count": null,
   "id": "3874f49e",
   "metadata": {},
   "outputs": [],
   "source": []
  }
 ],
 "metadata": {
  "kernelspec": {
   "display_name": "Python 3 (ipykernel)",
   "language": "python",
   "name": "python3"
  },
  "language_info": {
   "codemirror_mode": {
    "name": "ipython",
    "version": 3
   },
   "file_extension": ".py",
   "mimetype": "text/x-python",
   "name": "python",
   "nbconvert_exporter": "python",
   "pygments_lexer": "ipython3",
   "version": "3.9.22"
  }
 },
 "nbformat": 4,
 "nbformat_minor": 5
}
